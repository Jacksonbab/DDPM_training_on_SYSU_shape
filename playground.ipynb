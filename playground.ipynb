{
 "cells": [
  {
   "cell_type": "code",
   "execution_count": 1,
   "id": "d9903668-672e-454c-923d-89cebe48de71",
   "metadata": {
    "tags": []
   },
   "outputs": [
    {
     "name": "stdout",
     "output_type": "stream",
     "text": [
      "Defaulting to user installation because normal site-packages is not writeable\n",
      "Looking in indexes: https://pypi.org/simple, https://pypi.ngc.nvidia.com\n",
      "Collecting denoising_diffusion_pytorch\n",
      "  Downloading denoising_diffusion_pytorch-2.1.1-py3-none-any.whl.metadata (888 bytes)\n",
      "Requirement already satisfied: accelerate in /home/kyq5pg/.local/lib/python3.10/site-packages (from denoising_diffusion_pytorch) (1.1.1)\n",
      "Requirement already satisfied: einops in /usr/local/lib/python3.10/dist-packages (from denoising_diffusion_pytorch) (0.8.0)\n",
      "Collecting ema-pytorch>=0.4.2 (from denoising_diffusion_pytorch)\n",
      "  Downloading ema_pytorch-0.7.7-py3-none-any.whl.metadata (689 bytes)\n",
      "Requirement already satisfied: numpy in /usr/local/lib/python3.10/dist-packages (from denoising_diffusion_pytorch) (1.24.4)\n",
      "Requirement already satisfied: pillow in /usr/local/lib/python3.10/dist-packages (from denoising_diffusion_pytorch) (9.5.0)\n",
      "Collecting pytorch-fid (from denoising_diffusion_pytorch)\n",
      "  Downloading pytorch_fid-0.3.0-py3-none-any.whl.metadata (5.3 kB)\n",
      "Requirement already satisfied: scipy in /usr/local/lib/python3.10/dist-packages (from denoising_diffusion_pytorch) (1.13.0)\n",
      "Requirement already satisfied: torch>=2.0 in /usr/local/lib/python3.10/dist-packages (from denoising_diffusion_pytorch) (2.4.0a0+07cecf4168.nv24.5)\n",
      "Requirement already satisfied: torchvision in /usr/local/lib/python3.10/dist-packages (from denoising_diffusion_pytorch) (0.19.0a0)\n",
      "Requirement already satisfied: tqdm in /usr/local/lib/python3.10/dist-packages (from denoising_diffusion_pytorch) (4.66.4)\n",
      "Requirement already satisfied: filelock in /usr/local/lib/python3.10/dist-packages (from torch>=2.0->denoising_diffusion_pytorch) (3.14.0)\n",
      "Requirement already satisfied: typing-extensions>=4.8.0 in /usr/local/lib/python3.10/dist-packages (from torch>=2.0->denoising_diffusion_pytorch) (4.11.0)\n",
      "Requirement already satisfied: sympy in /usr/local/lib/python3.10/dist-packages (from torch>=2.0->denoising_diffusion_pytorch) (1.12)\n",
      "Requirement already satisfied: networkx in /usr/local/lib/python3.10/dist-packages (from torch>=2.0->denoising_diffusion_pytorch) (3.3)\n",
      "Requirement already satisfied: jinja2 in /usr/local/lib/python3.10/dist-packages (from torch>=2.0->denoising_diffusion_pytorch) (3.1.3)\n",
      "Requirement already satisfied: fsspec in /usr/local/lib/python3.10/dist-packages (from torch>=2.0->denoising_diffusion_pytorch) (2024.3.1)\n",
      "Requirement already satisfied: huggingface-hub>=0.21.0 in /home/kyq5pg/.local/lib/python3.10/site-packages (from accelerate->denoising_diffusion_pytorch) (0.26.2)\n",
      "Requirement already satisfied: packaging>=20.0 in /usr/local/lib/python3.10/dist-packages (from accelerate->denoising_diffusion_pytorch) (24.0)\n",
      "Requirement already satisfied: psutil in /usr/local/lib/python3.10/dist-packages (from accelerate->denoising_diffusion_pytorch) (5.9.8)\n",
      "Requirement already satisfied: pyyaml in /usr/local/lib/python3.10/dist-packages (from accelerate->denoising_diffusion_pytorch) (6.0.1)\n",
      "Requirement already satisfied: safetensors>=0.4.3 in /home/kyq5pg/.local/lib/python3.10/site-packages (from accelerate->denoising_diffusion_pytorch) (0.4.5)\n",
      "Requirement already satisfied: requests in /home/kyq5pg/.local/lib/python3.10/site-packages (from huggingface-hub>=0.21.0->accelerate->denoising_diffusion_pytorch) (2.32.3)\n",
      "Requirement already satisfied: MarkupSafe>=2.0 in /usr/local/lib/python3.10/dist-packages (from jinja2->torch>=2.0->denoising_diffusion_pytorch) (2.1.5)\n",
      "Requirement already satisfied: mpmath>=0.19 in /usr/local/lib/python3.10/dist-packages (from sympy->torch>=2.0->denoising_diffusion_pytorch) (1.3.0)\n",
      "Requirement already satisfied: charset-normalizer<4,>=2 in /usr/local/lib/python3.10/dist-packages (from requests->huggingface-hub>=0.21.0->accelerate->denoising_diffusion_pytorch) (3.3.2)\n",
      "Requirement already satisfied: idna<4,>=2.5 in /usr/local/lib/python3.10/dist-packages (from requests->huggingface-hub>=0.21.0->accelerate->denoising_diffusion_pytorch) (3.7)\n",
      "Requirement already satisfied: urllib3<3,>=1.21.1 in /usr/local/lib/python3.10/dist-packages (from requests->huggingface-hub>=0.21.0->accelerate->denoising_diffusion_pytorch) (2.0.7)\n",
      "Requirement already satisfied: certifi>=2017.4.17 in /usr/local/lib/python3.10/dist-packages (from requests->huggingface-hub>=0.21.0->accelerate->denoising_diffusion_pytorch) (2024.2.2)\n",
      "Downloading denoising_diffusion_pytorch-2.1.1-py3-none-any.whl (83 kB)\n",
      "\u001b[2K   \u001b[90m━━━━━━━━━━━━━━━━━━━━━━━━━━━━━━━━━━━━━━━━\u001b[0m \u001b[32m83.4/83.4 kB\u001b[0m \u001b[31m6.1 MB/s\u001b[0m eta \u001b[36m0:00:00\u001b[0m\n",
      "\u001b[?25hDownloading ema_pytorch-0.7.7-py3-none-any.whl (9.8 kB)\n",
      "Downloading pytorch_fid-0.3.0-py3-none-any.whl (15 kB)\n",
      "Installing collected packages: ema-pytorch, pytorch-fid, denoising_diffusion_pytorch\n",
      "\u001b[33m  WARNING: The script pytorch-fid is installed in '/home/kyq5pg/.local/bin' which is not on PATH.\n",
      "  Consider adding this directory to PATH or, if you prefer to suppress this warning, use --no-warn-script-location.\u001b[0m\u001b[33m\n",
      "\u001b[0mSuccessfully installed denoising_diffusion_pytorch-2.1.1 ema-pytorch-0.7.7 pytorch-fid-0.3.0\n",
      "\n",
      "\u001b[1m[\u001b[0m\u001b[34;49mnotice\u001b[0m\u001b[1;39;49m]\u001b[0m\u001b[39;49m A new release of pip is available: \u001b[0m\u001b[31;49m24.0\u001b[0m\u001b[39;49m -> \u001b[0m\u001b[32;49m24.3.1\u001b[0m\n",
      "\u001b[1m[\u001b[0m\u001b[34;49mnotice\u001b[0m\u001b[1;39;49m]\u001b[0m\u001b[39;49m To update, run: \u001b[0m\u001b[32;49mpython -m pip install --upgrade pip\u001b[0m\n"
     ]
    }
   ],
   "source": [
    "!pip install denoising_diffusion_pytorch"
   ]
  },
  {
   "cell_type": "code",
   "execution_count": 2,
   "id": "3aa168d0-de60-4c5e-8ca0-8dec676add00",
   "metadata": {
    "tags": []
   },
   "outputs": [
    {
     "name": "stdout",
     "output_type": "stream",
     "text": [
      "A100 GPU detected, using flash attention if input tensor is on cuda\n"
     ]
    },
    {
     "name": "stderr",
     "output_type": "stream",
     "text": [
      "/usr/local/lib/python3.10/dist-packages/torch/backends/cuda/__init__.py:342: FutureWarning: torch.backends.cuda.sdp_kernel() is deprecated. In the future, this context manager will be removed. Please see, torch.nn.attention.sdpa_kernel() for the new context manager, with updated signature.\n",
      "  warnings.warn(\n"
     ]
    },
    {
     "data": {
      "application/vnd.jupyter.widget-view+json": {
       "model_id": "69a017e102a84a5cb6fb3e4ca2ead82e",
       "version_major": 2,
       "version_minor": 0
      },
      "text/plain": [
       "sampling loop time step:   0%|          | 0/1000 [00:00<?, ?it/s]"
      ]
     },
     "metadata": {},
     "output_type": "display_data"
    },
    {
     "data": {
      "text/plain": [
       "torch.Size([4, 3, 128, 128])"
      ]
     },
     "execution_count": 2,
     "metadata": {},
     "output_type": "execute_result"
    }
   ],
   "source": [
    "import torch\n",
    "from denoising_diffusion_pytorch import Unet, GaussianDiffusion\n",
    "\n",
    "model = Unet(\n",
    "    dim = 64,\n",
    "    dim_mults = (1, 2, 4, 8),\n",
    "    flash_attn = True\n",
    ")\n",
    "\n",
    "diffusion = GaussianDiffusion(\n",
    "    model,\n",
    "    image_size = 128,\n",
    "    timesteps = 1000    # number of steps\n",
    ")\n",
    "\n",
    "training_images = torch.rand(8, 3, 128, 128) # images are normalized from 0 to 1\n",
    "loss = diffusion(training_images)\n",
    "loss.backward()\n",
    "\n",
    "# after a lot of training\n",
    "\n",
    "sampled_images = diffusion.sample(batch_size = 4)\n",
    "sampled_images.shape # (4, 3, 128, 128)"
   ]
  },
  {
   "cell_type": "code",
   "execution_count": 5,
   "id": "eb06a902-d9ff-4133-8ef6-f6f79dce0280",
   "metadata": {
    "tags": []
   },
   "outputs": [
    {
     "data": {
      "text/plain": [
       "tensor([[[[5.4687e-01, 6.9880e-01, 4.1361e-01,  ..., 6.1903e-01,\n",
       "           9.3545e-03, 8.4984e-01],\n",
       "          [7.2697e-01, 1.9257e-02, 8.6880e-01,  ..., 4.8320e-02,\n",
       "           1.5048e-01, 2.8494e-02],\n",
       "          [2.1858e-02, 3.9705e-01, 0.0000e+00,  ..., 2.8348e-01,\n",
       "           1.5177e-01, 6.4307e-01],\n",
       "          ...,\n",
       "          [0.0000e+00, 2.0934e-03, 0.0000e+00,  ..., 0.0000e+00,\n",
       "           0.0000e+00, 0.0000e+00],\n",
       "          [4.1575e-03, 0.0000e+00, 4.5012e-02,  ..., 5.0047e-02,\n",
       "           0.0000e+00, 1.3126e-02],\n",
       "          [4.3105e-01, 9.4434e-01, 6.9151e-02,  ..., 0.0000e+00,\n",
       "           4.4524e-02, 0.0000e+00]],\n",
       "\n",
       "         [[6.2900e-02, 1.1270e-01, 2.8524e-01,  ..., 4.3258e-01,\n",
       "           9.7406e-01, 2.1333e-02],\n",
       "          [5.5750e-01, 3.1604e-01, 0.0000e+00,  ..., 5.0652e-01,\n",
       "           6.2158e-01, 3.3034e-02],\n",
       "          [2.6720e-01, 1.9205e-03, 1.5740e-01,  ..., 8.1453e-02,\n",
       "           2.2678e-01, 3.7993e-01],\n",
       "          ...,\n",
       "          [8.5912e-01, 9.6279e-01, 0.0000e+00,  ..., 7.1896e-01,\n",
       "           8.4481e-04, 7.0899e-02],\n",
       "          [4.5877e-01, 8.8410e-01, 0.0000e+00,  ..., 0.0000e+00,\n",
       "           2.9491e-01, 4.3646e-01],\n",
       "          [9.1538e-01, 4.4685e-01, 4.0981e-01,  ..., 9.7849e-01,\n",
       "           2.2626e-01, 4.2816e-01]],\n",
       "\n",
       "         [[2.2398e-02, 3.6108e-02, 0.0000e+00,  ..., 0.0000e+00,\n",
       "           5.6418e-03, 5.9032e-02],\n",
       "          [1.9436e-01, 0.0000e+00, 4.4039e-01,  ..., 8.0048e-02,\n",
       "           0.0000e+00, 9.2946e-02],\n",
       "          [0.0000e+00, 0.0000e+00, 2.4828e-01,  ..., 0.0000e+00,\n",
       "           0.0000e+00, 0.0000e+00],\n",
       "          ...,\n",
       "          [1.1425e-01, 6.4098e-01, 0.0000e+00,  ..., 6.5947e-03,\n",
       "           0.0000e+00, 0.0000e+00],\n",
       "          [0.0000e+00, 2.1621e-03, 3.2935e-01,  ..., 0.0000e+00,\n",
       "           0.0000e+00, 0.0000e+00],\n",
       "          [4.6466e-01, 1.0740e-01, 0.0000e+00,  ..., 9.5091e-01,\n",
       "           4.7849e-01, 2.4854e-01]]],\n",
       "\n",
       "\n",
       "        [[[1.2502e-01, 4.5570e-02, 0.0000e+00,  ..., 3.1224e-01,\n",
       "           2.2331e-01, 1.0000e+00],\n",
       "          [2.5624e-02, 6.7545e-03, 0.0000e+00,  ..., 0.0000e+00,\n",
       "           8.5845e-01, 1.0000e+00],\n",
       "          [1.8764e-01, 0.0000e+00, 0.0000e+00,  ..., 6.3021e-01,\n",
       "           9.7259e-01, 6.7934e-01],\n",
       "          ...,\n",
       "          [0.0000e+00, 0.0000e+00, 1.2161e-01,  ..., 2.1409e-01,\n",
       "           8.3656e-03, 2.0050e-02],\n",
       "          [3.0511e-02, 0.0000e+00, 5.5424e-01,  ..., 1.0000e+00,\n",
       "           7.3396e-02, 1.1415e-01],\n",
       "          [1.9860e-02, 1.2706e-01, 1.8011e-01,  ..., 0.0000e+00,\n",
       "           0.0000e+00, 6.0510e-01]],\n",
       "\n",
       "         [[7.6973e-01, 8.2219e-01, 3.8292e-02,  ..., 8.6780e-02,\n",
       "           3.3180e-01, 3.8387e-01],\n",
       "          [2.3256e-01, 6.0269e-01, 4.4172e-01,  ..., 0.0000e+00,\n",
       "           8.2554e-01, 1.0000e+00],\n",
       "          [7.0637e-01, 2.6623e-01, 0.0000e+00,  ..., 5.0418e-01,\n",
       "           3.0504e-01, 5.3778e-02],\n",
       "          ...,\n",
       "          [7.3266e-01, 2.5942e-02, 8.5562e-02,  ..., 1.2441e-02,\n",
       "           2.1924e-02, 0.0000e+00],\n",
       "          [9.6770e-01, 3.2500e-01, 7.8240e-01,  ..., 7.8426e-01,\n",
       "           1.7331e-01, 3.5381e-01],\n",
       "          [7.9557e-01, 2.0931e-01, 7.8193e-01,  ..., 2.4646e-01,\n",
       "           4.2131e-01, 1.9185e-01]],\n",
       "\n",
       "         [[6.0999e-02, 9.9944e-01, 1.4365e-01,  ..., 1.1526e-01,\n",
       "           0.0000e+00, 7.4471e-01],\n",
       "          [0.0000e+00, 5.1433e-01, 3.7665e-03,  ..., 0.0000e+00,\n",
       "           2.6923e-01, 0.0000e+00],\n",
       "          [0.0000e+00, 2.3808e-01, 5.3202e-01,  ..., 0.0000e+00,\n",
       "           0.0000e+00, 6.8404e-02],\n",
       "          ...,\n",
       "          [3.6699e-01, 8.7917e-06, 0.0000e+00,  ..., 6.5202e-03,\n",
       "           0.0000e+00, 0.0000e+00],\n",
       "          [3.8718e-01, 5.6920e-02, 3.9594e-02,  ..., 0.0000e+00,\n",
       "           0.0000e+00, 1.9097e-01],\n",
       "          [8.2026e-01, 0.0000e+00, 2.9992e-01,  ..., 0.0000e+00,\n",
       "           0.0000e+00, 6.7913e-01]]],\n",
       "\n",
       "\n",
       "        [[[2.4351e-03, 5.6775e-01, 7.0889e-01,  ..., 1.6301e-01,\n",
       "           0.0000e+00, 2.1722e-01],\n",
       "          [9.4337e-02, 0.0000e+00, 3.1316e-02,  ..., 8.0371e-01,\n",
       "           9.9661e-01, 1.0000e+00],\n",
       "          [1.5144e-03, 4.6926e-01, 0.0000e+00,  ..., 1.2974e-02,\n",
       "           6.5769e-01, 2.5383e-01],\n",
       "          ...,\n",
       "          [0.0000e+00, 0.0000e+00, 9.3004e-01,  ..., 0.0000e+00,\n",
       "           0.0000e+00, 4.8607e-02],\n",
       "          [3.7536e-02, 1.6983e-03, 0.0000e+00,  ..., 0.0000e+00,\n",
       "           6.0118e-01, 5.2407e-01],\n",
       "          [0.0000e+00, 4.5545e-01, 7.3517e-01,  ..., 0.0000e+00,\n",
       "           5.3855e-01, 4.3373e-01]],\n",
       "\n",
       "         [[7.8103e-01, 5.5030e-01, 9.7565e-01,  ..., 5.8410e-01,\n",
       "           2.4117e-01, 5.2287e-01],\n",
       "          [9.7761e-01, 8.4774e-01, 6.2496e-01,  ..., 3.6529e-01,\n",
       "           0.0000e+00, 1.6703e-01],\n",
       "          [4.9836e-01, 2.7235e-02, 2.3212e-02,  ..., 1.5899e-01,\n",
       "           2.6927e-01, 1.0284e-01],\n",
       "          ...,\n",
       "          [4.7141e-01, 3.0756e-01, 9.9236e-01,  ..., 9.5849e-01,\n",
       "           8.0915e-02, 6.0585e-01],\n",
       "          [9.3444e-01, 2.8856e-02, 3.5226e-01,  ..., 6.0080e-02,\n",
       "           8.8583e-02, 1.4661e-01],\n",
       "          [9.5239e-01, 0.0000e+00, 5.3811e-01,  ..., 1.0000e+00,\n",
       "           3.9805e-01, 6.9267e-01]],\n",
       "\n",
       "         [[3.0384e-02, 2.0945e-02, 5.6807e-02,  ..., 0.0000e+00,\n",
       "           1.1491e-01, 0.0000e+00],\n",
       "          [3.7972e-01, 2.9411e-02, 2.7173e-01,  ..., 0.0000e+00,\n",
       "           4.9570e-03, 0.0000e+00],\n",
       "          [9.5394e-01, 1.8192e-01, 3.9908e-01,  ..., 8.7776e-02,\n",
       "           0.0000e+00, 0.0000e+00],\n",
       "          ...,\n",
       "          [9.2528e-01, 0.0000e+00, 0.0000e+00,  ..., 9.9115e-01,\n",
       "           9.0084e-02, 0.0000e+00],\n",
       "          [2.1451e-01, 0.0000e+00, 9.9420e-02,  ..., 3.1810e-02,\n",
       "           3.7330e-02, 7.7395e-03],\n",
       "          [9.3792e-01, 0.0000e+00, 5.0938e-01,  ..., 4.9886e-01,\n",
       "           7.5503e-01, 8.9877e-01]]],\n",
       "\n",
       "\n",
       "        [[[2.8004e-01, 1.0203e-01, 2.0301e-02,  ..., 3.8677e-01,\n",
       "           0.0000e+00, 9.8512e-01],\n",
       "          [5.0950e-02, 0.0000e+00, 4.5095e-01,  ..., 3.5950e-01,\n",
       "           4.6465e-02, 9.7763e-01],\n",
       "          [9.8520e-01, 5.3191e-01, 0.0000e+00,  ..., 9.6809e-01,\n",
       "           6.4381e-01, 5.8595e-01],\n",
       "          ...,\n",
       "          [0.0000e+00, 6.2018e-02, 0.0000e+00,  ..., 1.5230e-01,\n",
       "           2.4324e-01, 4.9263e-01],\n",
       "          [0.0000e+00, 6.7470e-01, 0.0000e+00,  ..., 1.7550e-01,\n",
       "           3.0160e-01, 5.1671e-02],\n",
       "          [6.6095e-01, 0.0000e+00, 1.0000e+00,  ..., 7.8466e-02,\n",
       "           8.0257e-01, 3.7597e-01]],\n",
       "\n",
       "         [[2.9547e-01, 1.3057e-01, 6.4586e-01,  ..., 1.1385e-01,\n",
       "           1.3565e-01, 0.0000e+00],\n",
       "          [2.3859e-01, 1.0000e+00, 7.8183e-01,  ..., 5.5921e-01,\n",
       "           8.1589e-03, 3.2806e-01],\n",
       "          [1.0000e+00, 9.5602e-01, 7.3843e-02,  ..., 9.6453e-01,\n",
       "           0.0000e+00, 1.5718e-01],\n",
       "          ...,\n",
       "          [4.6536e-01, 1.6556e-01, 2.6075e-03,  ..., 5.9344e-02,\n",
       "           3.4161e-01, 2.0637e-01],\n",
       "          [2.0535e-01, 0.0000e+00, 2.4006e-01,  ..., 9.3330e-01,\n",
       "           1.1069e-01, 4.3604e-02],\n",
       "          [8.8542e-01, 6.4137e-01, 4.2126e-01,  ..., 2.4953e-01,\n",
       "           3.1793e-01, 2.7300e-01]],\n",
       "\n",
       "         [[0.0000e+00, 0.0000e+00, 0.0000e+00,  ..., 4.7746e-01,\n",
       "           1.8265e-01, 0.0000e+00],\n",
       "          [1.5508e-01, 0.0000e+00, 0.0000e+00,  ..., 3.2472e-02,\n",
       "           2.0652e-02, 1.0454e-03],\n",
       "          [1.7899e-01, 6.2115e-02, 2.3354e-01,  ..., 1.2764e-01,\n",
       "           3.6674e-01, 0.0000e+00],\n",
       "          ...,\n",
       "          [3.3679e-01, 1.2863e-01, 7.0641e-02,  ..., 1.5580e-01,\n",
       "           0.0000e+00, 4.8843e-01],\n",
       "          [5.2823e-03, 0.0000e+00, 0.0000e+00,  ..., 0.0000e+00,\n",
       "           2.2243e-01, 8.1378e-02],\n",
       "          [1.0000e+00, 7.2948e-02, 6.4133e-01,  ..., 3.2943e-01,\n",
       "           2.2506e-01, 0.0000e+00]]]])"
      ]
     },
     "execution_count": 5,
     "metadata": {},
     "output_type": "execute_result"
    }
   ],
   "source": [
    "sampled_images"
   ]
  },
  {
   "cell_type": "code",
   "execution_count": 11,
   "id": "121d643c-62ff-4e25-a7c4-cd22ba7fec8b",
   "metadata": {
    "tags": []
   },
   "outputs": [
    {
     "name": "stdout",
     "output_type": "stream",
     "text": [
      "Unexpected exception formatting exception. Falling back to standard exception\n"
     ]
    },
    {
     "name": "stderr",
     "output_type": "stream",
     "text": [
      "Traceback (most recent call last):\n",
      "  File \"/usr/local/lib/python3.10/dist-packages/IPython/core/interactiveshell.py\", line 3553, in run_code\n",
      "    exec(code_obj, self.user_global_ns, self.user_ns)\n",
      "  File \"/tmp/ipykernel_99526/1374645934.py\", line 1, in <module>\n",
      "    import matplotlib.pyplot as plt\n",
      "ModuleNotFoundError: No module named 'matplotlib'\n",
      "\n",
      "During handling of the above exception, another exception occurred:\n",
      "\n",
      "Traceback (most recent call last):\n",
      "  File \"/usr/local/lib/python3.10/dist-packages/pygments/styles/__init__.py\", line 45, in get_style_by_name\n",
      "ModuleNotFoundError: No module named 'pygments.styles.default'\n",
      "\n",
      "During handling of the above exception, another exception occurred:\n",
      "\n",
      "Traceback (most recent call last):\n",
      "  File \"/usr/local/lib/python3.10/dist-packages/IPython/core/interactiveshell.py\", line 2144, in showtraceback\n",
      "    stb = self.InteractiveTB.structured_traceback(\n",
      "  File \"/usr/local/lib/python3.10/dist-packages/IPython/core/ultratb.py\", line 1448, in structured_traceback\n",
      "  File \"/usr/local/lib/python3.10/dist-packages/IPython/core/ultratb.py\", line 1339, in structured_traceback\n",
      "  File \"/usr/local/lib/python3.10/dist-packages/IPython/core/ultratb.py\", line 1186, in structured_traceback\n",
      "  File \"/usr/local/lib/python3.10/dist-packages/IPython/core/ultratb.py\", line 1076, in format_exception_as_a_whole\n",
      "  File \"/usr/local/lib/python3.10/dist-packages/IPython/core/ultratb.py\", line 1127, in get_records\n",
      "  File \"/usr/local/lib/python3.10/dist-packages/pygments/styles/__init__.py\", line 47, in get_style_by_name\n",
      "pygments.util.ClassNotFound: Could not find style module 'pygments.styles.default', though it should be builtin.\n"
     ]
    }
   ],
   "source": [
    "import matplotlib.pyplot as plt\n",
    "import torchvision.transforms as transforms\n",
    "\n",
    "Convert images from tensor format to PIL images for visualization\n",
    "Assuming the images are normalized to [0, 1]\n",
    "to_pil = transforms.ToPILImage()\n",
    "\n",
    "Plot each sampled image\n",
    "fig, axes = plt.subplots(1, 4, figsize=(12, 6))\n",
    "for i in range(4):\n",
    "    image = to_pil(sampled_images[i])  # Convert tensor to PIL Image\n",
    "    axes[i].imshow(image)\n",
    "    axes[i].axis('off')\n",
    "plt.tight_layout()\n",
    "plt.show()"
   ]
  },
  {
   "cell_type": "code",
   "execution_count": null,
   "id": "cdbb25a7-c0d4-4943-8563-d4ba2c4f8978",
   "metadata": {},
   "outputs": [],
   "source": []
  }
 ],
 "metadata": {
  "kernelspec": {
   "display_name": "PyTorch 2.4.0",
   "language": "python",
   "name": "pytorch-2.4.0"
  },
  "language_info": {
   "codemirror_mode": {
    "name": "ipython",
    "version": 3
   },
   "file_extension": ".py",
   "mimetype": "text/x-python",
   "name": "python",
   "nbconvert_exporter": "python",
   "pygments_lexer": "ipython3",
   "version": "3.10.12"
  }
 },
 "nbformat": 4,
 "nbformat_minor": 5
}
