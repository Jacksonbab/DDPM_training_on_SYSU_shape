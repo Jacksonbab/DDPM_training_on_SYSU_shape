{
 "cells": [
  {
   "cell_type": "code",
   "execution_count": 1,
   "id": "ed25c83f-9ffb-43b2-b895-1b9a3bd316ba",
   "metadata": {},
   "outputs": [],
   "source": [
    "import os\n",
    "import shutil\n",
    "import numpy as np\n",
    "import matplotlib.pyplot as plt\n",
    "from pytorch_fid import fid_score\n",
    "from torchmetrics.image.inception import InceptionScore\n",
    "from torchvision import transforms\n",
    "from PIL import Image\n",
    "import torch\n",
    "import pandas as pd"
   ]
  },
  {
   "cell_type": "code",
   "execution_count": 2,
   "id": "9ff6911f-93a0-4ae6-bca4-d12fba87574d",
   "metadata": {
    "tags": []
   },
   "outputs": [],
   "source": [
    "def normalize_images(input_dir, output_dir, target_range=(0, 1)):\n",
    "    \"\"\"\n",
    "    Normalize images in the input directory and save them to the output directory.\n",
    "\n",
    "    Args:\n",
    "        input_dir (str): Directory containing images to normalize.\n",
    "        output_dir (str): Directory to save normalized images.\n",
    "        target_range (tuple): Range to normalize images, e.g., (0, 1) or (-1, 1).\n",
    "    \"\"\"\n",
    "    os.makedirs(output_dir, exist_ok=True)\n",
    "\n",
    "    for root, _, files in os.walk(input_dir):\n",
    "        for file in files:\n",
    "            if file.lower().endswith(('.png', '.jpg', '.jpeg')):\n",
    "                try:\n",
    "                    input_path = os.path.join(root, file)\n",
    "                    output_path = os.path.join(output_dir, file)\n",
    "\n",
    "                    # Open and normalize image\n",
    "                    img = Image.open(input_path).convert(\"RGB\")\n",
    "                    img_array = np.asarray(img).astype(np.float32)\n",
    "                    img_normalized = (img_array - img_array.min()) / (img_array.max() - img_array.min())\n",
    "\n",
    "                    # Map to target range\n",
    "                    img_normalized = img_normalized * (target_range[1] - target_range[0]) + target_range[0]\n",
    "                    img_normalized = np.clip(img_normalized, target_range[0], target_range[1])\n",
    "\n",
    "                    # Save the normalized image\n",
    "                    img_out = Image.fromarray((img_normalized * 255).astype(np.uint8))\n",
    "                    img_out.save(output_path)\n",
    "                except Exception as e:\n",
    "                    print(f\"Error processing {file}: {e}\")"
   ]
  },
  {
   "cell_type": "code",
   "execution_count": null,
   "id": "79a56dc8-31f8-431b-8745-69412ad7d292",
   "metadata": {},
   "outputs": [],
   "source": []
  },
  {
   "cell_type": "markdown",
   "id": "e1193aaa-0def-432d-989d-1b1798f67485",
   "metadata": {},
   "source": [
    "calculate FID and IS for images sampled by all checkpoints."
   ]
  },
  {
   "cell_type": "code",
   "execution_count": 3,
   "id": "c0e4cf3a-c788-4fa7-8e10-f91f9858d7a0",
   "metadata": {
    "tags": []
   },
   "outputs": [],
   "source": [
    "# Directories\n",
    "REAL_IMAGES_DIR = \"./processed-datasets/eval_data\"\n",
    "GENERATED_IMAGES_ROOT = \"/scratch/kyq5pg/MLIA_final/samples\"\n",
    "TEMP_REAL_DIR = \"./processed-datasets/normalized_eval_data\"\n",
    "TEMP_GEN_DIR = \"./processed-datasets/temp_normalized_samples\""
   ]
  },
  {
   "cell_type": "code",
   "execution_count": 4,
   "id": "da22b836-1ff7-4219-8c7b-880fb7c85df1",
   "metadata": {
    "tags": []
   },
   "outputs": [],
   "source": [
    "# Function to Compute FID\n",
    "def compute_fid(real_dir, gen_dir):\n",
    "    return fid_score.calculate_fid_given_paths(\n",
    "        [real_dir, gen_dir],\n",
    "        batch_size=16,\n",
    "        device=\"cuda:0\",\n",
    "        dims=2048  # Default InceptionV3 layer\n",
    "    )\n",
    "\n",
    "# Function to Compute IS\n",
    "def compute_inception_score(gen_dir):\n",
    "    transform = transforms.Compose([\n",
    "        transforms.Resize((299, 299)),\n",
    "        transforms.ToTensor(),\n",
    "        transforms.Lambda(lambda x: (x * 255).byte())  # InceptionScore function from torchmetrics requires to Convert images back to uint8 [0, 255]\n",
    "    ])\n",
    "    images = []\n",
    "    for file in os.listdir(gen_dir):\n",
    "        if file.lower().endswith(('.png', '.jpg', '.jpeg')):\n",
    "            img = Image.open(os.path.join(gen_dir, file)).convert(\"RGB\")\n",
    "            images.append(transform(img))\n",
    "    images = torch.stack(images).to(\"cuda:0\")\n",
    "    inception = InceptionScore().to(\"cuda:0\")  # Move the model to GPU\n",
    "    \n",
    "    # inception.update(images)\n",
    "    # Split images into batches to avoid out of memory on cuda\n",
    "    batch_size = 16\n",
    "    for i in range(0, len(images), batch_size):\n",
    "        batch = images[i:i + batch_size]\n",
    "        inception.update(batch)\n",
    "        \n",
    "    return inception.compute()"
   ]
  },
  {
   "cell_type": "code",
   "execution_count": 5,
   "id": "0d2a2f05-edcd-4c64-ab92-dd886717e0e1",
   "metadata": {},
   "outputs": [
    {
     "data": {
      "text/plain": [
       "['model-1',\n",
       " 'model-2',\n",
       " 'model-3',\n",
       " 'model-4',\n",
       " 'model-5',\n",
       " 'model-6',\n",
       " 'model-7',\n",
       " 'model-8',\n",
       " 'model-9',\n",
       " 'model-10',\n",
       " 'model-11',\n",
       " 'model-12',\n",
       " 'model-13',\n",
       " 'model-14',\n",
       " 'model-15',\n",
       " 'model-16',\n",
       " 'model-17',\n",
       " 'model-18',\n",
       " 'model-19',\n",
       " 'model-20',\n",
       " 'model-21',\n",
       " 'model-22',\n",
       " 'model-23',\n",
       " 'model-24',\n",
       " 'model-25',\n",
       " 'model-26',\n",
       " 'model-27',\n",
       " 'model-28',\n",
       " 'model-29',\n",
       " 'model-30',\n",
       " 'model-31',\n",
       " 'model-32',\n",
       " 'model-33',\n",
       " 'model-34',\n",
       " 'model-35',\n",
       " 'model-36',\n",
       " 'model-37',\n",
       " 'model-38',\n",
       " 'model-39',\n",
       " 'model-40',\n",
       " 'model-41',\n",
       " 'model-42',\n",
       " 'model-43',\n",
       " 'model-44',\n",
       " 'model-45',\n",
       " 'model-46',\n",
       " 'model-47',\n",
       " 'model-48',\n",
       " 'model-49',\n",
       " 'model-50',\n",
       " 'model-51',\n",
       " 'model-52',\n",
       " 'model-53',\n",
       " 'model-54',\n",
       " 'model-55',\n",
       " 'model-56',\n",
       " 'model-57',\n",
       " 'model-58',\n",
       " 'model-59',\n",
       " 'model-60',\n",
       " 'model-61',\n",
       " 'model-62',\n",
       " 'model-63',\n",
       " 'model-64',\n",
       " 'model-65',\n",
       " 'model-66',\n",
       " 'model-67',\n",
       " 'model-68',\n",
       " 'model-69',\n",
       " 'model-70',\n",
       " 'model-71',\n",
       " 'model-72',\n",
       " 'model-73',\n",
       " 'model-74',\n",
       " 'model-75']"
      ]
     },
     "execution_count": 5,
     "metadata": {},
     "output_type": "execute_result"
    }
   ],
   "source": [
    "# Process Each Checkpoint Directory\n",
    "results = []\n",
    "checkpoints = sorted(os.listdir(GENERATED_IMAGES_ROOT), key=lambda x: int(x.split('-')[1]))\n",
    "checkpoints"
   ]
  },
  {
   "cell_type": "code",
   "execution_count": 6,
   "id": "87c7652b-2cbe-435b-9b92-c18a748ab11a",
   "metadata": {},
   "outputs": [
    {
     "name": "stdout",
     "output_type": "stream",
     "text": [
      "Normalizing real images...\n",
      "Real image normalization finished\n"
     ]
    }
   ],
   "source": [
    "print(\"Normalizing real images...\")\n",
    "normalize_images(REAL_IMAGES_DIR, TEMP_REAL_DIR, target_range=(0, 1))\n",
    "print(\"Real image normalization finished\")"
   ]
  },
  {
   "cell_type": "code",
   "execution_count": 7,
   "id": "1d56fc00-6a2e-4e56-b34c-de4f688455ff",
   "metadata": {},
   "outputs": [
    {
     "name": "stdout",
     "output_type": "stream",
     "text": [
      "Normalizing sampled images for checkpoint: model-1...\n",
      "Normalizing sampled images for checkpoint: model-1 finished.\n",
      "Computing FID for checkpoint: model-1...\n"
     ]
    },
    {
     "name": "stderr",
     "output_type": "stream",
     "text": [
      "100%|██████████| 20/20 [00:01<00:00, 14.71it/s]\n",
      "100%|██████████| 62/62 [00:01<00:00, 55.97it/s]\n"
     ]
    },
    {
     "name": "stdout",
     "output_type": "stream",
     "text": [
      "Computing FID for checkpoint: model-1 finished. FID: 401.606514517876\n",
      "Computing IS score for checkpoint: model-1...\n"
     ]
    },
    {
     "name": "stderr",
     "output_type": "stream",
     "text": [
      "/usr/local/lib/python3.10/dist-packages/torchmetrics/utilities/prints.py:43: UserWarning: Metric `InceptionScore` will save all extracted features in buffer. For large datasets this may lead to large memory footprint.\n",
      "  warnings.warn(*args, **kwargs)  # noqa: B028\n"
     ]
    },
    {
     "name": "stdout",
     "output_type": "stream",
     "text": [
      "Computing IS score for checkpoint: model-1 finished. IS Mean: 1.215438723564148, IS Std: 0.015452423132956028\n",
      "Normalizing sampled images for checkpoint: model-2...\n",
      "Normalizing sampled images for checkpoint: model-2 finished.\n",
      "Computing FID for checkpoint: model-2...\n"
     ]
    },
    {
     "name": "stderr",
     "output_type": "stream",
     "text": [
      "100%|██████████| 20/20 [00:00<00:00, 44.95it/s]\n",
      "100%|██████████| 62/62 [00:01<00:00, 53.98it/s]\n"
     ]
    },
    {
     "name": "stdout",
     "output_type": "stream",
     "text": [
      "Computing FID for checkpoint: model-2 finished. FID: 395.0912494061014\n",
      "Computing IS score for checkpoint: model-2...\n",
      "Computing IS score for checkpoint: model-2 finished. IS Mean: 1.3067169189453125, IS Std: 0.022318867966532707\n",
      "Normalizing sampled images for checkpoint: model-3...\n",
      "Normalizing sampled images for checkpoint: model-3 finished.\n",
      "Computing FID for checkpoint: model-3...\n"
     ]
    },
    {
     "name": "stderr",
     "output_type": "stream",
     "text": [
      "100%|██████████| 20/20 [00:00<00:00, 42.66it/s]\n",
      "100%|██████████| 62/62 [00:01<00:00, 55.37it/s]\n"
     ]
    },
    {
     "name": "stdout",
     "output_type": "stream",
     "text": [
      "Computing FID for checkpoint: model-3 finished. FID: 363.50669460980293\n",
      "Computing IS score for checkpoint: model-3...\n",
      "Computing IS score for checkpoint: model-3 finished. IS Mean: 1.4239343404769897, IS Std: 0.04167071729898453\n",
      "Normalizing sampled images for checkpoint: model-4...\n",
      "Normalizing sampled images for checkpoint: model-4 finished.\n",
      "Computing FID for checkpoint: model-4...\n"
     ]
    },
    {
     "name": "stderr",
     "output_type": "stream",
     "text": [
      "100%|██████████| 20/20 [00:00<00:00, 42.26it/s]\n",
      "100%|██████████| 62/62 [00:01<00:00, 54.79it/s]\n"
     ]
    },
    {
     "name": "stdout",
     "output_type": "stream",
     "text": [
      "Computing FID for checkpoint: model-4 finished. FID: 292.80262845314553\n",
      "Computing IS score for checkpoint: model-4...\n",
      "Computing IS score for checkpoint: model-4 finished. IS Mean: 2.113759994506836, IS Std: 0.13137787580490112\n",
      "Normalizing sampled images for checkpoint: model-5...\n",
      "Normalizing sampled images for checkpoint: model-5 finished.\n",
      "Computing FID for checkpoint: model-5...\n"
     ]
    },
    {
     "name": "stderr",
     "output_type": "stream",
     "text": [
      "100%|██████████| 20/20 [00:00<00:00, 43.94it/s]\n",
      "100%|██████████| 62/62 [00:01<00:00, 54.24it/s]\n"
     ]
    },
    {
     "name": "stdout",
     "output_type": "stream",
     "text": [
      "Computing FID for checkpoint: model-5 finished. FID: 244.0037387606903\n",
      "Computing IS score for checkpoint: model-5...\n",
      "Computing IS score for checkpoint: model-5 finished. IS Mean: 3.0399045944213867, IS Std: 0.20293033123016357\n",
      "Normalizing sampled images for checkpoint: model-6...\n",
      "Normalizing sampled images for checkpoint: model-6 finished.\n",
      "Computing FID for checkpoint: model-6...\n"
     ]
    },
    {
     "name": "stderr",
     "output_type": "stream",
     "text": [
      "100%|██████████| 20/20 [00:00<00:00, 40.39it/s]\n",
      "100%|██████████| 62/62 [00:01<00:00, 56.38it/s]\n"
     ]
    },
    {
     "name": "stdout",
     "output_type": "stream",
     "text": [
      "Computing FID for checkpoint: model-6 finished. FID: 212.8021711570747\n",
      "Computing IS score for checkpoint: model-6...\n",
      "Computing IS score for checkpoint: model-6 finished. IS Mean: 3.913860321044922, IS Std: 0.22954224050045013\n",
      "Normalizing sampled images for checkpoint: model-7...\n",
      "Normalizing sampled images for checkpoint: model-7 finished.\n",
      "Computing FID for checkpoint: model-7...\n"
     ]
    },
    {
     "name": "stderr",
     "output_type": "stream",
     "text": [
      "100%|██████████| 20/20 [00:00<00:00, 44.10it/s]\n",
      "100%|██████████| 62/62 [00:01<00:00, 55.12it/s]\n"
     ]
    },
    {
     "name": "stdout",
     "output_type": "stream",
     "text": [
      "Computing FID for checkpoint: model-7 finished. FID: 189.78550423827352\n",
      "Computing IS score for checkpoint: model-7...\n",
      "Computing IS score for checkpoint: model-7 finished. IS Mean: 4.37489652633667, IS Std: 0.4063294231891632\n",
      "Normalizing sampled images for checkpoint: model-8...\n",
      "Normalizing sampled images for checkpoint: model-8 finished.\n",
      "Computing FID for checkpoint: model-8...\n"
     ]
    },
    {
     "name": "stderr",
     "output_type": "stream",
     "text": [
      "100%|██████████| 20/20 [00:00<00:00, 43.69it/s]\n",
      "100%|██████████| 62/62 [00:01<00:00, 56.66it/s]\n"
     ]
    },
    {
     "name": "stdout",
     "output_type": "stream",
     "text": [
      "Computing FID for checkpoint: model-8 finished. FID: 180.2784449223154\n",
      "Computing IS score for checkpoint: model-8...\n",
      "Computing IS score for checkpoint: model-8 finished. IS Mean: 4.732387542724609, IS Std: 0.3007195293903351\n",
      "Normalizing sampled images for checkpoint: model-9...\n",
      "Normalizing sampled images for checkpoint: model-9 finished.\n",
      "Computing FID for checkpoint: model-9...\n"
     ]
    },
    {
     "name": "stderr",
     "output_type": "stream",
     "text": [
      "100%|██████████| 20/20 [00:00<00:00, 42.77it/s]\n",
      "100%|██████████| 62/62 [00:01<00:00, 56.93it/s]\n"
     ]
    },
    {
     "name": "stdout",
     "output_type": "stream",
     "text": [
      "Computing FID for checkpoint: model-9 finished. FID: 177.74376660544795\n",
      "Computing IS score for checkpoint: model-9...\n",
      "Computing IS score for checkpoint: model-9 finished. IS Mean: 5.145821571350098, IS Std: 0.4263087213039398\n",
      "Normalizing sampled images for checkpoint: model-10...\n",
      "Normalizing sampled images for checkpoint: model-10 finished.\n",
      "Computing FID for checkpoint: model-10...\n"
     ]
    },
    {
     "name": "stderr",
     "output_type": "stream",
     "text": [
      "100%|██████████| 20/20 [00:00<00:00, 38.49it/s]\n",
      "100%|██████████| 62/62 [00:01<00:00, 56.07it/s]\n"
     ]
    },
    {
     "name": "stdout",
     "output_type": "stream",
     "text": [
      "Computing FID for checkpoint: model-10 finished. FID: 176.86682892395677\n",
      "Computing IS score for checkpoint: model-10...\n",
      "Computing IS score for checkpoint: model-10 finished. IS Mean: 5.097708702087402, IS Std: 0.47863486409187317\n",
      "Normalizing sampled images for checkpoint: model-11...\n",
      "Normalizing sampled images for checkpoint: model-11 finished.\n",
      "Computing FID for checkpoint: model-11...\n"
     ]
    },
    {
     "name": "stderr",
     "output_type": "stream",
     "text": [
      "100%|██████████| 20/20 [00:00<00:00, 43.66it/s]\n",
      "100%|██████████| 62/62 [00:01<00:00, 55.99it/s]\n"
     ]
    },
    {
     "name": "stdout",
     "output_type": "stream",
     "text": [
      "Computing FID for checkpoint: model-11 finished. FID: 175.80114292831195\n",
      "Computing IS score for checkpoint: model-11...\n",
      "Computing IS score for checkpoint: model-11 finished. IS Mean: 5.275187969207764, IS Std: 0.49586221575737\n",
      "Normalizing sampled images for checkpoint: model-12...\n",
      "Normalizing sampled images for checkpoint: model-12 finished.\n",
      "Computing FID for checkpoint: model-12...\n"
     ]
    },
    {
     "name": "stderr",
     "output_type": "stream",
     "text": [
      "100%|██████████| 20/20 [00:00<00:00, 43.13it/s]\n",
      "100%|██████████| 62/62 [00:01<00:00, 56.72it/s]\n"
     ]
    },
    {
     "name": "stdout",
     "output_type": "stream",
     "text": [
      "Computing FID for checkpoint: model-12 finished. FID: 178.45232325549784\n",
      "Computing IS score for checkpoint: model-12...\n",
      "Computing IS score for checkpoint: model-12 finished. IS Mean: 5.1100287437438965, IS Std: 0.40359076857566833\n",
      "Normalizing sampled images for checkpoint: model-13...\n",
      "Normalizing sampled images for checkpoint: model-13 finished.\n",
      "Computing FID for checkpoint: model-13...\n"
     ]
    },
    {
     "name": "stderr",
     "output_type": "stream",
     "text": [
      "100%|██████████| 20/20 [00:00<00:00, 42.18it/s]\n",
      "100%|██████████| 62/62 [00:01<00:00, 55.97it/s]\n"
     ]
    },
    {
     "name": "stdout",
     "output_type": "stream",
     "text": [
      "Computing FID for checkpoint: model-13 finished. FID: 175.23017548067696\n",
      "Computing IS score for checkpoint: model-13...\n",
      "Computing IS score for checkpoint: model-13 finished. IS Mean: 5.1298651695251465, IS Std: 0.22369082272052765\n",
      "Normalizing sampled images for checkpoint: model-14...\n",
      "Normalizing sampled images for checkpoint: model-14 finished.\n",
      "Computing FID for checkpoint: model-14...\n"
     ]
    },
    {
     "name": "stderr",
     "output_type": "stream",
     "text": [
      "100%|██████████| 20/20 [00:00<00:00, 41.28it/s]\n",
      "100%|██████████| 62/62 [00:01<00:00, 54.41it/s]\n"
     ]
    },
    {
     "name": "stdout",
     "output_type": "stream",
     "text": [
      "Computing FID for checkpoint: model-14 finished. FID: 181.10882681310505\n",
      "Computing IS score for checkpoint: model-14...\n",
      "Computing IS score for checkpoint: model-14 finished. IS Mean: 5.2693610191345215, IS Std: 0.3899879455566406\n",
      "Normalizing sampled images for checkpoint: model-15...\n",
      "Normalizing sampled images for checkpoint: model-15 finished.\n",
      "Computing FID for checkpoint: model-15...\n"
     ]
    },
    {
     "name": "stderr",
     "output_type": "stream",
     "text": [
      "100%|██████████| 20/20 [00:00<00:00, 42.58it/s]\n",
      "100%|██████████| 62/62 [00:01<00:00, 56.24it/s]\n"
     ]
    },
    {
     "name": "stdout",
     "output_type": "stream",
     "text": [
      "Computing FID for checkpoint: model-15 finished. FID: 186.45078134046003\n",
      "Computing IS score for checkpoint: model-15...\n",
      "Computing IS score for checkpoint: model-15 finished. IS Mean: 5.015307426452637, IS Std: 0.4559888541698456\n",
      "Normalizing sampled images for checkpoint: model-16...\n",
      "Normalizing sampled images for checkpoint: model-16 finished.\n",
      "Computing FID for checkpoint: model-16...\n"
     ]
    },
    {
     "name": "stderr",
     "output_type": "stream",
     "text": [
      "100%|██████████| 20/20 [00:00<00:00, 39.92it/s]\n",
      "100%|██████████| 62/62 [00:01<00:00, 56.87it/s]\n"
     ]
    },
    {
     "name": "stdout",
     "output_type": "stream",
     "text": [
      "Computing FID for checkpoint: model-16 finished. FID: 185.90883665355744\n",
      "Computing IS score for checkpoint: model-16...\n",
      "Computing IS score for checkpoint: model-16 finished. IS Mean: 5.2284064292907715, IS Std: 0.618179202079773\n",
      "Normalizing sampled images for checkpoint: model-17...\n",
      "Normalizing sampled images for checkpoint: model-17 finished.\n",
      "Computing FID for checkpoint: model-17...\n"
     ]
    },
    {
     "name": "stderr",
     "output_type": "stream",
     "text": [
      "100%|██████████| 20/20 [00:00<00:00, 43.55it/s]\n",
      "100%|██████████| 63/63 [00:01<00:00, 53.37it/s]\n"
     ]
    },
    {
     "name": "stdout",
     "output_type": "stream",
     "text": [
      "Computing FID for checkpoint: model-17 finished. FID: 188.16219963670005\n",
      "Computing IS score for checkpoint: model-17...\n",
      "Computing IS score for checkpoint: model-17 finished. IS Mean: 5.169879913330078, IS Std: 0.44062647223472595\n",
      "Normalizing sampled images for checkpoint: model-18...\n",
      "Normalizing sampled images for checkpoint: model-18 finished.\n",
      "Computing FID for checkpoint: model-18...\n"
     ]
    },
    {
     "name": "stderr",
     "output_type": "stream",
     "text": [
      "100%|██████████| 20/20 [00:00<00:00, 42.52it/s]\n",
      "100%|██████████| 62/62 [00:01<00:00, 56.43it/s]\n"
     ]
    },
    {
     "name": "stdout",
     "output_type": "stream",
     "text": [
      "Computing FID for checkpoint: model-18 finished. FID: 181.91005630737789\n",
      "Computing IS score for checkpoint: model-18...\n",
      "Computing IS score for checkpoint: model-18 finished. IS Mean: 5.1373515129089355, IS Std: 0.3212042450904846\n",
      "Normalizing sampled images for checkpoint: model-19...\n",
      "Normalizing sampled images for checkpoint: model-19 finished.\n",
      "Computing FID for checkpoint: model-19...\n"
     ]
    },
    {
     "name": "stderr",
     "output_type": "stream",
     "text": [
      "100%|██████████| 20/20 [00:00<00:00, 38.84it/s]\n",
      "100%|██████████| 62/62 [00:01<00:00, 56.02it/s]\n"
     ]
    },
    {
     "name": "stdout",
     "output_type": "stream",
     "text": [
      "Computing FID for checkpoint: model-19 finished. FID: 180.64437950045487\n",
      "Computing IS score for checkpoint: model-19...\n",
      "Computing IS score for checkpoint: model-19 finished. IS Mean: 5.16333532333374, IS Std: 0.28202253580093384\n",
      "Normalizing sampled images for checkpoint: model-20...\n",
      "Normalizing sampled images for checkpoint: model-20 finished.\n",
      "Computing FID for checkpoint: model-20...\n"
     ]
    },
    {
     "name": "stderr",
     "output_type": "stream",
     "text": [
      "100%|██████████| 20/20 [00:00<00:00, 43.24it/s]\n",
      "100%|██████████| 62/62 [00:01<00:00, 55.41it/s]\n"
     ]
    },
    {
     "name": "stdout",
     "output_type": "stream",
     "text": [
      "Computing FID for checkpoint: model-20 finished. FID: 178.6286488155035\n",
      "Computing IS score for checkpoint: model-20...\n",
      "Computing IS score for checkpoint: model-20 finished. IS Mean: 5.211437702178955, IS Std: 0.34060797095298767\n",
      "Normalizing sampled images for checkpoint: model-21...\n",
      "Normalizing sampled images for checkpoint: model-21 finished.\n",
      "Computing FID for checkpoint: model-21...\n"
     ]
    },
    {
     "name": "stderr",
     "output_type": "stream",
     "text": [
      "100%|██████████| 20/20 [00:00<00:00, 40.04it/s]\n",
      "100%|██████████| 185/185 [00:03<00:00, 57.29it/s]\n"
     ]
    },
    {
     "name": "stdout",
     "output_type": "stream",
     "text": [
      "Computing FID for checkpoint: model-21 finished. FID: 178.0562812462416\n",
      "Computing IS score for checkpoint: model-21...\n",
      "Computing IS score for checkpoint: model-21 finished. IS Mean: 5.626406192779541, IS Std: 0.3392621576786041\n",
      "Normalizing sampled images for checkpoint: model-22...\n",
      "Normalizing sampled images for checkpoint: model-22 finished.\n",
      "Computing FID for checkpoint: model-22...\n"
     ]
    },
    {
     "name": "stderr",
     "output_type": "stream",
     "text": [
      "100%|██████████| 20/20 [00:00<00:00, 38.24it/s]\n",
      "100%|██████████| 63/63 [00:01<00:00, 53.46it/s]\n"
     ]
    },
    {
     "name": "stdout",
     "output_type": "stream",
     "text": [
      "Computing FID for checkpoint: model-22 finished. FID: 177.656607826445\n",
      "Computing IS score for checkpoint: model-22...\n",
      "Computing IS score for checkpoint: model-22 finished. IS Mean: 5.047730922698975, IS Std: 0.31656602025032043\n",
      "Normalizing sampled images for checkpoint: model-23...\n",
      "Normalizing sampled images for checkpoint: model-23 finished.\n",
      "Computing FID for checkpoint: model-23...\n"
     ]
    },
    {
     "name": "stderr",
     "output_type": "stream",
     "text": [
      "100%|██████████| 20/20 [00:00<00:00, 41.77it/s]\n",
      "100%|██████████| 315/315 [00:06<00:00, 48.39it/s]\n"
     ]
    },
    {
     "name": "stdout",
     "output_type": "stream",
     "text": [
      "Computing FID for checkpoint: model-23 finished. FID: 176.2437210420029\n",
      "Computing IS score for checkpoint: model-23...\n",
      "Computing IS score for checkpoint: model-23 finished. IS Mean: 5.4996185302734375, IS Std: 0.21606259047985077\n",
      "Normalizing sampled images for checkpoint: model-24...\n",
      "Normalizing sampled images for checkpoint: model-24 finished.\n",
      "Computing FID for checkpoint: model-24...\n"
     ]
    },
    {
     "name": "stderr",
     "output_type": "stream",
     "text": [
      "100%|██████████| 20/20 [00:00<00:00, 41.28it/s]\n",
      "100%|██████████| 62/62 [00:01<00:00, 54.00it/s]\n"
     ]
    },
    {
     "name": "stdout",
     "output_type": "stream",
     "text": [
      "Computing FID for checkpoint: model-24 finished. FID: 182.48680642189225\n",
      "Computing IS score for checkpoint: model-24...\n",
      "Computing IS score for checkpoint: model-24 finished. IS Mean: 5.29028844833374, IS Std: 0.3642822206020355\n",
      "Normalizing sampled images for checkpoint: model-25...\n",
      "Normalizing sampled images for checkpoint: model-25 finished.\n",
      "Computing FID for checkpoint: model-25...\n"
     ]
    },
    {
     "name": "stderr",
     "output_type": "stream",
     "text": [
      "100%|██████████| 20/20 [00:00<00:00, 41.53it/s]\n",
      "100%|██████████| 64/64 [00:01<00:00, 56.58it/s]\n"
     ]
    },
    {
     "name": "stdout",
     "output_type": "stream",
     "text": [
      "Computing FID for checkpoint: model-25 finished. FID: 186.38404449462598\n",
      "Computing IS score for checkpoint: model-25...\n",
      "Computing IS score for checkpoint: model-25 finished. IS Mean: 4.91082239151001, IS Std: 0.3013312518596649\n",
      "Normalizing sampled images for checkpoint: model-26...\n",
      "Normalizing sampled images for checkpoint: model-26 finished.\n",
      "Computing FID for checkpoint: model-26...\n"
     ]
    },
    {
     "name": "stderr",
     "output_type": "stream",
     "text": [
      "100%|██████████| 20/20 [00:00<00:00, 43.33it/s]\n",
      "100%|██████████| 62/62 [00:01<00:00, 54.52it/s]\n"
     ]
    },
    {
     "name": "stdout",
     "output_type": "stream",
     "text": [
      "Computing FID for checkpoint: model-26 finished. FID: 183.8871969599653\n",
      "Computing IS score for checkpoint: model-26...\n",
      "Computing IS score for checkpoint: model-26 finished. IS Mean: 5.217811107635498, IS Std: 0.35645511746406555\n",
      "Normalizing sampled images for checkpoint: model-27...\n",
      "Normalizing sampled images for checkpoint: model-27 finished.\n",
      "Computing FID for checkpoint: model-27...\n"
     ]
    },
    {
     "name": "stderr",
     "output_type": "stream",
     "text": [
      "100%|██████████| 20/20 [00:00<00:00, 44.29it/s]\n",
      "100%|██████████| 62/62 [00:01<00:00, 55.71it/s]\n"
     ]
    },
    {
     "name": "stdout",
     "output_type": "stream",
     "text": [
      "Computing FID for checkpoint: model-27 finished. FID: 187.32811352622176\n",
      "Computing IS score for checkpoint: model-27...\n",
      "Computing IS score for checkpoint: model-27 finished. IS Mean: 5.061154842376709, IS Std: 0.3063918948173523\n",
      "Normalizing sampled images for checkpoint: model-28...\n",
      "Normalizing sampled images for checkpoint: model-28 finished.\n",
      "Computing FID for checkpoint: model-28...\n"
     ]
    },
    {
     "name": "stderr",
     "output_type": "stream",
     "text": [
      "100%|██████████| 20/20 [00:00<00:00, 42.64it/s]\n",
      "100%|██████████| 62/62 [00:01<00:00, 54.26it/s]\n"
     ]
    },
    {
     "name": "stdout",
     "output_type": "stream",
     "text": [
      "Computing FID for checkpoint: model-28 finished. FID: 186.00383686486612\n",
      "Computing IS score for checkpoint: model-28...\n",
      "Computing IS score for checkpoint: model-28 finished. IS Mean: 4.951906681060791, IS Std: 0.2817106246948242\n",
      "Normalizing sampled images for checkpoint: model-29...\n",
      "Normalizing sampled images for checkpoint: model-29 finished.\n",
      "Computing FID for checkpoint: model-29...\n"
     ]
    },
    {
     "name": "stderr",
     "output_type": "stream",
     "text": [
      "100%|██████████| 20/20 [00:00<00:00, 42.87it/s]\n",
      "100%|██████████| 63/63 [00:01<00:00, 52.61it/s]\n"
     ]
    },
    {
     "name": "stdout",
     "output_type": "stream",
     "text": [
      "Computing FID for checkpoint: model-29 finished. FID: 186.17805381836394\n",
      "Computing IS score for checkpoint: model-29...\n",
      "Computing IS score for checkpoint: model-29 finished. IS Mean: 5.083845615386963, IS Std: 0.3530677556991577\n",
      "Normalizing sampled images for checkpoint: model-30...\n",
      "Normalizing sampled images for checkpoint: model-30 finished.\n",
      "Computing FID for checkpoint: model-30...\n"
     ]
    },
    {
     "name": "stderr",
     "output_type": "stream",
     "text": [
      "100%|██████████| 20/20 [00:00<00:00, 44.11it/s]\n",
      "100%|██████████| 62/62 [00:01<00:00, 53.35it/s]\n"
     ]
    },
    {
     "name": "stdout",
     "output_type": "stream",
     "text": [
      "Computing FID for checkpoint: model-30 finished. FID: 188.23042926318675\n",
      "Computing IS score for checkpoint: model-30...\n",
      "Computing IS score for checkpoint: model-30 finished. IS Mean: 4.9903178215026855, IS Std: 0.5433530211448669\n",
      "Normalizing sampled images for checkpoint: model-31...\n",
      "Normalizing sampled images for checkpoint: model-31 finished.\n",
      "Computing FID for checkpoint: model-31...\n"
     ]
    },
    {
     "name": "stderr",
     "output_type": "stream",
     "text": [
      "100%|██████████| 20/20 [00:00<00:00, 43.93it/s]\n",
      "100%|██████████| 64/64 [00:01<00:00, 57.25it/s]\n"
     ]
    },
    {
     "name": "stdout",
     "output_type": "stream",
     "text": [
      "Computing FID for checkpoint: model-31 finished. FID: 184.72751705736331\n",
      "Computing IS score for checkpoint: model-31...\n",
      "Computing IS score for checkpoint: model-31 finished. IS Mean: 5.1571221351623535, IS Std: 0.4188920259475708\n",
      "Normalizing sampled images for checkpoint: model-32...\n",
      "Normalizing sampled images for checkpoint: model-32 finished.\n",
      "Computing FID for checkpoint: model-32...\n"
     ]
    },
    {
     "name": "stderr",
     "output_type": "stream",
     "text": [
      "100%|██████████| 20/20 [00:00<00:00, 29.64it/s]\n",
      "100%|██████████| 62/62 [00:01<00:00, 56.98it/s]\n"
     ]
    },
    {
     "name": "stdout",
     "output_type": "stream",
     "text": [
      "Computing FID for checkpoint: model-32 finished. FID: 190.54466072154122\n",
      "Computing IS score for checkpoint: model-32...\n",
      "Computing IS score for checkpoint: model-32 finished. IS Mean: 4.9039626121521, IS Std: 0.25122418999671936\n",
      "Normalizing sampled images for checkpoint: model-33...\n",
      "Normalizing sampled images for checkpoint: model-33 finished.\n",
      "Computing FID for checkpoint: model-33...\n"
     ]
    },
    {
     "name": "stderr",
     "output_type": "stream",
     "text": [
      "100%|██████████| 20/20 [00:00<00:00, 43.61it/s]\n",
      "100%|██████████| 62/62 [00:01<00:00, 56.05it/s]\n"
     ]
    },
    {
     "name": "stdout",
     "output_type": "stream",
     "text": [
      "Computing FID for checkpoint: model-33 finished. FID: 185.68827459127493\n",
      "Computing IS score for checkpoint: model-33...\n",
      "Computing IS score for checkpoint: model-33 finished. IS Mean: 4.905106544494629, IS Std: 0.32310256361961365\n",
      "Normalizing sampled images for checkpoint: model-34...\n",
      "Normalizing sampled images for checkpoint: model-34 finished.\n",
      "Computing FID for checkpoint: model-34...\n"
     ]
    },
    {
     "name": "stderr",
     "output_type": "stream",
     "text": [
      "100%|██████████| 20/20 [00:00<00:00, 43.54it/s]\n",
      "100%|██████████| 62/62 [00:01<00:00, 56.07it/s]\n"
     ]
    },
    {
     "name": "stdout",
     "output_type": "stream",
     "text": [
      "Computing FID for checkpoint: model-34 finished. FID: 188.36562453241817\n",
      "Computing IS score for checkpoint: model-34...\n",
      "Computing IS score for checkpoint: model-34 finished. IS Mean: 5.068593978881836, IS Std: 0.5843176245689392\n",
      "Normalizing sampled images for checkpoint: model-35...\n",
      "Normalizing sampled images for checkpoint: model-35 finished.\n",
      "Computing FID for checkpoint: model-35...\n"
     ]
    },
    {
     "name": "stderr",
     "output_type": "stream",
     "text": [
      "100%|██████████| 20/20 [00:00<00:00, 44.21it/s]\n",
      "100%|██████████| 62/62 [00:01<00:00, 56.56it/s]\n"
     ]
    },
    {
     "name": "stdout",
     "output_type": "stream",
     "text": [
      "Computing FID for checkpoint: model-35 finished. FID: 189.07057580803107\n",
      "Computing IS score for checkpoint: model-35...\n",
      "Computing IS score for checkpoint: model-35 finished. IS Mean: 5.043710231781006, IS Std: 0.3806909918785095\n",
      "Normalizing sampled images for checkpoint: model-36...\n",
      "Normalizing sampled images for checkpoint: model-36 finished.\n",
      "Computing FID for checkpoint: model-36...\n"
     ]
    },
    {
     "name": "stderr",
     "output_type": "stream",
     "text": [
      "100%|██████████| 20/20 [00:00<00:00, 42.61it/s]\n",
      "100%|██████████| 62/62 [00:01<00:00, 56.49it/s]\n"
     ]
    },
    {
     "name": "stdout",
     "output_type": "stream",
     "text": [
      "Computing FID for checkpoint: model-36 finished. FID: 189.86864548233544\n",
      "Computing IS score for checkpoint: model-36...\n",
      "Computing IS score for checkpoint: model-36 finished. IS Mean: 4.863544464111328, IS Std: 0.314456582069397\n",
      "Normalizing sampled images for checkpoint: model-37...\n",
      "Normalizing sampled images for checkpoint: model-37 finished.\n",
      "Computing FID for checkpoint: model-37...\n"
     ]
    },
    {
     "name": "stderr",
     "output_type": "stream",
     "text": [
      "100%|██████████| 20/20 [00:00<00:00, 42.64it/s]\n",
      "100%|██████████| 62/62 [00:01<00:00, 55.62it/s]\n"
     ]
    },
    {
     "name": "stdout",
     "output_type": "stream",
     "text": [
      "Computing FID for checkpoint: model-37 finished. FID: 187.64652378409886\n",
      "Computing IS score for checkpoint: model-37...\n",
      "Computing IS score for checkpoint: model-37 finished. IS Mean: 5.049757480621338, IS Std: 0.21112659573554993\n",
      "Normalizing sampled images for checkpoint: model-38...\n",
      "Normalizing sampled images for checkpoint: model-38 finished.\n",
      "Computing FID for checkpoint: model-38...\n"
     ]
    },
    {
     "name": "stderr",
     "output_type": "stream",
     "text": [
      "100%|██████████| 20/20 [00:00<00:00, 43.30it/s]\n",
      "100%|██████████| 62/62 [00:01<00:00, 53.96it/s]\n"
     ]
    },
    {
     "name": "stdout",
     "output_type": "stream",
     "text": [
      "Computing FID for checkpoint: model-38 finished. FID: 188.71987963986996\n",
      "Computing IS score for checkpoint: model-38...\n",
      "Computing IS score for checkpoint: model-38 finished. IS Mean: 4.922828674316406, IS Std: 0.25475114583969116\n",
      "Normalizing sampled images for checkpoint: model-39...\n",
      "Normalizing sampled images for checkpoint: model-39 finished.\n",
      "Computing FID for checkpoint: model-39...\n"
     ]
    },
    {
     "name": "stderr",
     "output_type": "stream",
     "text": [
      "100%|██████████| 20/20 [00:00<00:00, 44.40it/s]\n",
      "100%|██████████| 62/62 [00:01<00:00, 55.49it/s]\n"
     ]
    },
    {
     "name": "stdout",
     "output_type": "stream",
     "text": [
      "Computing FID for checkpoint: model-39 finished. FID: 190.9263888456087\n",
      "Computing IS score for checkpoint: model-39...\n",
      "Computing IS score for checkpoint: model-39 finished. IS Mean: 4.914784908294678, IS Std: 0.36470475792884827\n",
      "Normalizing sampled images for checkpoint: model-40...\n",
      "Normalizing sampled images for checkpoint: model-40 finished.\n",
      "Computing FID for checkpoint: model-40...\n"
     ]
    },
    {
     "name": "stderr",
     "output_type": "stream",
     "text": [
      "100%|██████████| 20/20 [00:00<00:00, 42.17it/s]\n",
      "100%|██████████| 62/62 [00:01<00:00, 56.10it/s]\n"
     ]
    },
    {
     "name": "stdout",
     "output_type": "stream",
     "text": [
      "Computing FID for checkpoint: model-40 finished. FID: 191.24890700431\n",
      "Computing IS score for checkpoint: model-40...\n",
      "Computing IS score for checkpoint: model-40 finished. IS Mean: 4.907064914703369, IS Std: 0.39631086587905884\n",
      "Normalizing sampled images for checkpoint: model-41...\n",
      "Normalizing sampled images for checkpoint: model-41 finished.\n",
      "Computing FID for checkpoint: model-41...\n"
     ]
    },
    {
     "name": "stderr",
     "output_type": "stream",
     "text": [
      "100%|██████████| 20/20 [00:00<00:00, 43.35it/s]\n",
      "100%|██████████| 62/62 [00:01<00:00, 54.00it/s]\n"
     ]
    },
    {
     "name": "stdout",
     "output_type": "stream",
     "text": [
      "Computing FID for checkpoint: model-41 finished. FID: 189.9575099608657\n",
      "Computing IS score for checkpoint: model-41...\n",
      "Computing IS score for checkpoint: model-41 finished. IS Mean: 4.768496990203857, IS Std: 0.3428822457790375\n",
      "Normalizing sampled images for checkpoint: model-42...\n",
      "Normalizing sampled images for checkpoint: model-42 finished.\n",
      "Computing FID for checkpoint: model-42...\n"
     ]
    },
    {
     "name": "stderr",
     "output_type": "stream",
     "text": [
      "100%|██████████| 20/20 [00:00<00:00, 43.20it/s]\n",
      "100%|██████████| 62/62 [00:01<00:00, 56.53it/s]\n"
     ]
    },
    {
     "name": "stdout",
     "output_type": "stream",
     "text": [
      "Computing FID for checkpoint: model-42 finished. FID: 192.31004023717483\n",
      "Computing IS score for checkpoint: model-42...\n",
      "Computing IS score for checkpoint: model-42 finished. IS Mean: 4.765057563781738, IS Std: 0.33567601442337036\n",
      "Normalizing sampled images for checkpoint: model-43...\n",
      "Normalizing sampled images for checkpoint: model-43 finished.\n",
      "Computing FID for checkpoint: model-43...\n"
     ]
    },
    {
     "name": "stderr",
     "output_type": "stream",
     "text": [
      "100%|██████████| 20/20 [00:00<00:00, 40.68it/s]\n",
      "100%|██████████| 62/62 [00:01<00:00, 56.65it/s]\n"
     ]
    },
    {
     "name": "stdout",
     "output_type": "stream",
     "text": [
      "Computing FID for checkpoint: model-43 finished. FID: 189.30101256001836\n",
      "Computing IS score for checkpoint: model-43...\n",
      "Computing IS score for checkpoint: model-43 finished. IS Mean: 4.697276592254639, IS Std: 0.5133305191993713\n",
      "Normalizing sampled images for checkpoint: model-44...\n",
      "Normalizing sampled images for checkpoint: model-44 finished.\n",
      "Computing FID for checkpoint: model-44...\n"
     ]
    },
    {
     "name": "stderr",
     "output_type": "stream",
     "text": [
      "100%|██████████| 20/20 [00:00<00:00, 42.31it/s]\n",
      "100%|██████████| 62/62 [00:01<00:00, 56.15it/s]\n"
     ]
    },
    {
     "name": "stdout",
     "output_type": "stream",
     "text": [
      "Computing FID for checkpoint: model-44 finished. FID: 189.07540976996432\n",
      "Computing IS score for checkpoint: model-44...\n",
      "Computing IS score for checkpoint: model-44 finished. IS Mean: 4.992076396942139, IS Std: 0.3522062599658966\n",
      "Normalizing sampled images for checkpoint: model-45...\n",
      "Normalizing sampled images for checkpoint: model-45 finished.\n",
      "Computing FID for checkpoint: model-45...\n"
     ]
    },
    {
     "name": "stderr",
     "output_type": "stream",
     "text": [
      "100%|██████████| 20/20 [00:00<00:00, 43.68it/s]\n",
      "100%|██████████| 62/62 [00:01<00:00, 55.91it/s]\n"
     ]
    },
    {
     "name": "stdout",
     "output_type": "stream",
     "text": [
      "Computing FID for checkpoint: model-45 finished. FID: 191.52354232135474\n",
      "Computing IS score for checkpoint: model-45...\n",
      "Computing IS score for checkpoint: model-45 finished. IS Mean: 4.955679416656494, IS Std: 0.39701783657073975\n",
      "Normalizing sampled images for checkpoint: model-46...\n",
      "Normalizing sampled images for checkpoint: model-46 finished.\n",
      "Computing FID for checkpoint: model-46...\n"
     ]
    },
    {
     "name": "stderr",
     "output_type": "stream",
     "text": [
      "100%|██████████| 20/20 [00:00<00:00, 44.90it/s]\n",
      "100%|██████████| 62/62 [00:01<00:00, 56.64it/s]\n"
     ]
    },
    {
     "name": "stdout",
     "output_type": "stream",
     "text": [
      "Computing FID for checkpoint: model-46 finished. FID: 191.9256257349213\n",
      "Computing IS score for checkpoint: model-46...\n",
      "Computing IS score for checkpoint: model-46 finished. IS Mean: 4.88409423828125, IS Std: 0.3179902732372284\n",
      "Normalizing sampled images for checkpoint: model-47...\n",
      "Normalizing sampled images for checkpoint: model-47 finished.\n",
      "Computing FID for checkpoint: model-47...\n"
     ]
    },
    {
     "name": "stderr",
     "output_type": "stream",
     "text": [
      "100%|██████████| 20/20 [00:00<00:00, 43.93it/s]\n",
      "100%|██████████| 62/62 [00:01<00:00, 56.06it/s]\n"
     ]
    },
    {
     "name": "stdout",
     "output_type": "stream",
     "text": [
      "Computing FID for checkpoint: model-47 finished. FID: 188.95254476974156\n",
      "Computing IS score for checkpoint: model-47...\n",
      "Computing IS score for checkpoint: model-47 finished. IS Mean: 4.967533111572266, IS Std: 0.5012539029121399\n",
      "Normalizing sampled images for checkpoint: model-48...\n",
      "Normalizing sampled images for checkpoint: model-48 finished.\n",
      "Computing FID for checkpoint: model-48...\n"
     ]
    },
    {
     "name": "stderr",
     "output_type": "stream",
     "text": [
      "100%|██████████| 20/20 [00:00<00:00, 43.89it/s]\n",
      "100%|██████████| 62/62 [00:01<00:00, 55.80it/s]\n"
     ]
    },
    {
     "name": "stdout",
     "output_type": "stream",
     "text": [
      "Computing FID for checkpoint: model-48 finished. FID: 190.7957808997504\n",
      "Computing IS score for checkpoint: model-48...\n",
      "Computing IS score for checkpoint: model-48 finished. IS Mean: 4.819798469543457, IS Std: 0.35836130380630493\n",
      "Normalizing sampled images for checkpoint: model-49...\n",
      "Normalizing sampled images for checkpoint: model-49 finished.\n",
      "Computing FID for checkpoint: model-49...\n"
     ]
    },
    {
     "name": "stderr",
     "output_type": "stream",
     "text": [
      "100%|██████████| 20/20 [00:00<00:00, 44.27it/s]\n",
      "100%|██████████| 62/62 [00:01<00:00, 55.86it/s]\n"
     ]
    },
    {
     "name": "stdout",
     "output_type": "stream",
     "text": [
      "Computing FID for checkpoint: model-49 finished. FID: 193.2330977129375\n",
      "Computing IS score for checkpoint: model-49...\n",
      "Computing IS score for checkpoint: model-49 finished. IS Mean: 4.682799816131592, IS Std: 0.3685115873813629\n",
      "Normalizing sampled images for checkpoint: model-50...\n",
      "Normalizing sampled images for checkpoint: model-50 finished.\n",
      "Computing FID for checkpoint: model-50...\n"
     ]
    },
    {
     "name": "stderr",
     "output_type": "stream",
     "text": [
      "100%|██████████| 20/20 [00:00<00:00, 44.12it/s]\n",
      "100%|██████████| 62/62 [00:01<00:00, 56.38it/s]\n"
     ]
    },
    {
     "name": "stdout",
     "output_type": "stream",
     "text": [
      "Computing FID for checkpoint: model-50 finished. FID: 194.4345994900607\n",
      "Computing IS score for checkpoint: model-50...\n",
      "Computing IS score for checkpoint: model-50 finished. IS Mean: 4.837496757507324, IS Std: 0.41563794016838074\n",
      "Normalizing sampled images for checkpoint: model-51...\n",
      "Normalizing sampled images for checkpoint: model-51 finished.\n",
      "Computing FID for checkpoint: model-51...\n"
     ]
    },
    {
     "name": "stderr",
     "output_type": "stream",
     "text": [
      "100%|██████████| 20/20 [00:00<00:00, 43.71it/s]\n",
      "100%|██████████| 62/62 [00:01<00:00, 54.80it/s]\n"
     ]
    },
    {
     "name": "stdout",
     "output_type": "stream",
     "text": [
      "Computing FID for checkpoint: model-51 finished. FID: 193.88722156516974\n",
      "Computing IS score for checkpoint: model-51...\n",
      "Computing IS score for checkpoint: model-51 finished. IS Mean: 4.646248817443848, IS Std: 0.35965821146965027\n",
      "Normalizing sampled images for checkpoint: model-52...\n",
      "Normalizing sampled images for checkpoint: model-52 finished.\n",
      "Computing FID for checkpoint: model-52...\n"
     ]
    },
    {
     "name": "stderr",
     "output_type": "stream",
     "text": [
      "100%|██████████| 20/20 [00:00<00:00, 42.44it/s]\n",
      "100%|██████████| 62/62 [00:01<00:00, 56.42it/s]\n"
     ]
    },
    {
     "name": "stdout",
     "output_type": "stream",
     "text": [
      "Computing FID for checkpoint: model-52 finished. FID: 192.65309773315172\n",
      "Computing IS score for checkpoint: model-52...\n",
      "Computing IS score for checkpoint: model-52 finished. IS Mean: 4.708693027496338, IS Std: 0.35887235403060913\n",
      "Normalizing sampled images for checkpoint: model-53...\n",
      "Normalizing sampled images for checkpoint: model-53 finished.\n",
      "Computing FID for checkpoint: model-53...\n"
     ]
    },
    {
     "name": "stderr",
     "output_type": "stream",
     "text": [
      "100%|██████████| 20/20 [00:00<00:00, 43.51it/s]\n",
      "100%|██████████| 62/62 [00:01<00:00, 55.99it/s]\n"
     ]
    },
    {
     "name": "stdout",
     "output_type": "stream",
     "text": [
      "Computing FID for checkpoint: model-53 finished. FID: 192.8718666481104\n",
      "Computing IS score for checkpoint: model-53...\n",
      "Computing IS score for checkpoint: model-53 finished. IS Mean: 5.070485591888428, IS Std: 0.29879170656204224\n",
      "Normalizing sampled images for checkpoint: model-54...\n",
      "Normalizing sampled images for checkpoint: model-54 finished.\n",
      "Computing FID for checkpoint: model-54...\n"
     ]
    },
    {
     "name": "stderr",
     "output_type": "stream",
     "text": [
      "100%|██████████| 20/20 [00:00<00:00, 42.65it/s]\n",
      "100%|██████████| 62/62 [00:01<00:00, 56.74it/s]\n"
     ]
    },
    {
     "name": "stdout",
     "output_type": "stream",
     "text": [
      "Computing FID for checkpoint: model-54 finished. FID: 193.8629273814494\n",
      "Computing IS score for checkpoint: model-54...\n",
      "Computing IS score for checkpoint: model-54 finished. IS Mean: 4.9350409507751465, IS Std: 0.5642370581626892\n",
      "Normalizing sampled images for checkpoint: model-55...\n",
      "Normalizing sampled images for checkpoint: model-55 finished.\n",
      "Computing FID for checkpoint: model-55...\n"
     ]
    },
    {
     "name": "stderr",
     "output_type": "stream",
     "text": [
      "100%|██████████| 20/20 [00:00<00:00, 43.37it/s]\n",
      "100%|██████████| 62/62 [00:01<00:00, 54.86it/s]\n"
     ]
    },
    {
     "name": "stdout",
     "output_type": "stream",
     "text": [
      "Computing FID for checkpoint: model-55 finished. FID: 196.48550748167753\n",
      "Computing IS score for checkpoint: model-55...\n",
      "Computing IS score for checkpoint: model-55 finished. IS Mean: 4.847236633300781, IS Std: 0.44345518946647644\n",
      "Normalizing sampled images for checkpoint: model-56...\n",
      "Normalizing sampled images for checkpoint: model-56 finished.\n",
      "Computing FID for checkpoint: model-56...\n"
     ]
    },
    {
     "name": "stderr",
     "output_type": "stream",
     "text": [
      "100%|██████████| 20/20 [00:00<00:00, 42.12it/s]\n",
      "100%|██████████| 62/62 [00:01<00:00, 56.13it/s]\n"
     ]
    },
    {
     "name": "stdout",
     "output_type": "stream",
     "text": [
      "Computing FID for checkpoint: model-56 finished. FID: 194.89612542586687\n",
      "Computing IS score for checkpoint: model-56...\n",
      "Computing IS score for checkpoint: model-56 finished. IS Mean: 4.939633846282959, IS Std: 0.46633821725845337\n",
      "Normalizing sampled images for checkpoint: model-57...\n",
      "Normalizing sampled images for checkpoint: model-57 finished.\n",
      "Computing FID for checkpoint: model-57...\n"
     ]
    },
    {
     "name": "stderr",
     "output_type": "stream",
     "text": [
      "100%|██████████| 20/20 [00:00<00:00, 43.77it/s]\n",
      "100%|██████████| 62/62 [00:01<00:00, 54.14it/s]\n"
     ]
    },
    {
     "name": "stdout",
     "output_type": "stream",
     "text": [
      "Computing FID for checkpoint: model-57 finished. FID: 191.8185252547343\n",
      "Computing IS score for checkpoint: model-57...\n",
      "Computing IS score for checkpoint: model-57 finished. IS Mean: 4.660759925842285, IS Std: 0.2966683506965637\n",
      "Normalizing sampled images for checkpoint: model-58...\n",
      "Normalizing sampled images for checkpoint: model-58 finished.\n",
      "Computing FID for checkpoint: model-58...\n"
     ]
    },
    {
     "name": "stderr",
     "output_type": "stream",
     "text": [
      "100%|██████████| 20/20 [00:00<00:00, 43.48it/s]\n",
      "100%|██████████| 62/62 [00:01<00:00, 56.56it/s]\n"
     ]
    },
    {
     "name": "stdout",
     "output_type": "stream",
     "text": [
      "Computing FID for checkpoint: model-58 finished. FID: 191.1319036955964\n",
      "Computing IS score for checkpoint: model-58...\n",
      "Computing IS score for checkpoint: model-58 finished. IS Mean: 4.728433132171631, IS Std: 0.3055371046066284\n",
      "Normalizing sampled images for checkpoint: model-59...\n",
      "Normalizing sampled images for checkpoint: model-59 finished.\n",
      "Computing FID for checkpoint: model-59...\n"
     ]
    },
    {
     "name": "stderr",
     "output_type": "stream",
     "text": [
      "100%|██████████| 20/20 [00:00<00:00, 39.10it/s]\n",
      "100%|██████████| 62/62 [00:01<00:00, 57.20it/s]\n"
     ]
    },
    {
     "name": "stdout",
     "output_type": "stream",
     "text": [
      "Computing FID for checkpoint: model-59 finished. FID: 191.70300504305368\n",
      "Computing IS score for checkpoint: model-59...\n",
      "Computing IS score for checkpoint: model-59 finished. IS Mean: 4.991382598876953, IS Std: 0.43621551990509033\n",
      "Normalizing sampled images for checkpoint: model-60...\n",
      "Normalizing sampled images for checkpoint: model-60 finished.\n",
      "Computing FID for checkpoint: model-60...\n"
     ]
    },
    {
     "name": "stderr",
     "output_type": "stream",
     "text": [
      "100%|██████████| 20/20 [00:00<00:00, 42.97it/s]\n",
      "100%|██████████| 64/64 [00:01<00:00, 57.51it/s]\n"
     ]
    },
    {
     "name": "stdout",
     "output_type": "stream",
     "text": [
      "Computing FID for checkpoint: model-60 finished. FID: 193.46716218307122\n",
      "Computing IS score for checkpoint: model-60...\n",
      "Computing IS score for checkpoint: model-60 finished. IS Mean: 4.6382317543029785, IS Std: 0.32469427585601807\n",
      "Normalizing sampled images for checkpoint: model-61...\n",
      "Normalizing sampled images for checkpoint: model-61 finished.\n",
      "Computing FID for checkpoint: model-61...\n"
     ]
    },
    {
     "name": "stderr",
     "output_type": "stream",
     "text": [
      "100%|██████████| 20/20 [00:00<00:00, 42.72it/s]\n",
      "100%|██████████| 63/63 [00:01<00:00, 53.97it/s]\n"
     ]
    },
    {
     "name": "stdout",
     "output_type": "stream",
     "text": [
      "Computing FID for checkpoint: model-61 finished. FID: 192.8281373057004\n",
      "Computing IS score for checkpoint: model-61...\n",
      "Computing IS score for checkpoint: model-61 finished. IS Mean: 5.092278003692627, IS Std: 0.45612767338752747\n",
      "Normalizing sampled images for checkpoint: model-62...\n",
      "Normalizing sampled images for checkpoint: model-62 finished.\n",
      "Computing FID for checkpoint: model-62...\n"
     ]
    },
    {
     "name": "stderr",
     "output_type": "stream",
     "text": [
      "100%|██████████| 20/20 [00:00<00:00, 42.91it/s]\n",
      "100%|██████████| 62/62 [00:01<00:00, 57.17it/s]\n"
     ]
    },
    {
     "name": "stdout",
     "output_type": "stream",
     "text": [
      "Computing FID for checkpoint: model-62 finished. FID: 194.16751732677136\n",
      "Computing IS score for checkpoint: model-62...\n",
      "Computing IS score for checkpoint: model-62 finished. IS Mean: 4.721078395843506, IS Std: 0.29387611150741577\n",
      "Normalizing sampled images for checkpoint: model-63...\n",
      "Normalizing sampled images for checkpoint: model-63 finished.\n",
      "Computing FID for checkpoint: model-63...\n"
     ]
    },
    {
     "name": "stderr",
     "output_type": "stream",
     "text": [
      "100%|██████████| 20/20 [00:00<00:00, 43.15it/s]\n",
      "100%|██████████| 62/62 [00:01<00:00, 55.90it/s]\n"
     ]
    },
    {
     "name": "stdout",
     "output_type": "stream",
     "text": [
      "Computing FID for checkpoint: model-63 finished. FID: 193.318892890352\n",
      "Computing IS score for checkpoint: model-63...\n",
      "Computing IS score for checkpoint: model-63 finished. IS Mean: 4.837693691253662, IS Std: 0.407164990901947\n",
      "Normalizing sampled images for checkpoint: model-64...\n",
      "Normalizing sampled images for checkpoint: model-64 finished.\n",
      "Computing FID for checkpoint: model-64...\n"
     ]
    },
    {
     "name": "stderr",
     "output_type": "stream",
     "text": [
      "100%|██████████| 20/20 [00:00<00:00, 43.09it/s]\n",
      "100%|██████████| 62/62 [00:01<00:00, 54.68it/s]\n"
     ]
    },
    {
     "name": "stdout",
     "output_type": "stream",
     "text": [
      "Computing FID for checkpoint: model-64 finished. FID: 195.94594244792296\n",
      "Computing IS score for checkpoint: model-64...\n",
      "Computing IS score for checkpoint: model-64 finished. IS Mean: 4.710936069488525, IS Std: 0.4009895622730255\n",
      "Normalizing sampled images for checkpoint: model-65...\n",
      "Normalizing sampled images for checkpoint: model-65 finished.\n",
      "Computing FID for checkpoint: model-65...\n"
     ]
    },
    {
     "name": "stderr",
     "output_type": "stream",
     "text": [
      "100%|██████████| 20/20 [00:00<00:00, 43.94it/s]\n",
      "100%|██████████| 62/62 [00:01<00:00, 57.32it/s]\n"
     ]
    },
    {
     "name": "stdout",
     "output_type": "stream",
     "text": [
      "Computing FID for checkpoint: model-65 finished. FID: 193.94759469675796\n",
      "Computing IS score for checkpoint: model-65...\n",
      "Computing IS score for checkpoint: model-65 finished. IS Mean: 4.73931360244751, IS Std: 0.278671532869339\n",
      "Normalizing sampled images for checkpoint: model-66...\n",
      "Normalizing sampled images for checkpoint: model-66 finished.\n",
      "Computing FID for checkpoint: model-66...\n"
     ]
    },
    {
     "name": "stderr",
     "output_type": "stream",
     "text": [
      "100%|██████████| 20/20 [00:00<00:00, 43.19it/s]\n",
      "100%|██████████| 62/62 [00:01<00:00, 56.05it/s]\n"
     ]
    },
    {
     "name": "stdout",
     "output_type": "stream",
     "text": [
      "Computing FID for checkpoint: model-66 finished. FID: 196.03676537383342\n",
      "Computing IS score for checkpoint: model-66...\n",
      "Computing IS score for checkpoint: model-66 finished. IS Mean: 4.807657718658447, IS Std: 0.3545779883861542\n",
      "Normalizing sampled images for checkpoint: model-67...\n",
      "Normalizing sampled images for checkpoint: model-67 finished.\n",
      "Computing FID for checkpoint: model-67...\n"
     ]
    },
    {
     "name": "stderr",
     "output_type": "stream",
     "text": [
      "100%|██████████| 20/20 [00:00<00:00, 42.50it/s]\n",
      "100%|██████████| 62/62 [00:01<00:00, 56.76it/s]\n"
     ]
    },
    {
     "name": "stdout",
     "output_type": "stream",
     "text": [
      "Computing FID for checkpoint: model-67 finished. FID: 197.13703376959603\n",
      "Computing IS score for checkpoint: model-67...\n",
      "Computing IS score for checkpoint: model-67 finished. IS Mean: 4.9029364585876465, IS Std: 0.2874477505683899\n",
      "Normalizing sampled images for checkpoint: model-68...\n",
      "Normalizing sampled images for checkpoint: model-68 finished.\n",
      "Computing FID for checkpoint: model-68...\n"
     ]
    },
    {
     "name": "stderr",
     "output_type": "stream",
     "text": [
      "100%|██████████| 20/20 [00:00<00:00, 42.45it/s]\n",
      "100%|██████████| 62/62 [00:01<00:00, 55.96it/s]\n"
     ]
    },
    {
     "name": "stdout",
     "output_type": "stream",
     "text": [
      "Computing FID for checkpoint: model-68 finished. FID: 190.6680425835176\n",
      "Computing IS score for checkpoint: model-68...\n",
      "Computing IS score for checkpoint: model-68 finished. IS Mean: 4.705914497375488, IS Std: 0.3568669557571411\n",
      "Normalizing sampled images for checkpoint: model-69...\n",
      "Normalizing sampled images for checkpoint: model-69 finished.\n",
      "Computing FID for checkpoint: model-69...\n"
     ]
    },
    {
     "name": "stderr",
     "output_type": "stream",
     "text": [
      "100%|██████████| 20/20 [00:00<00:00, 42.67it/s]\n",
      "100%|██████████| 62/62 [00:01<00:00, 55.34it/s]\n"
     ]
    },
    {
     "name": "stdout",
     "output_type": "stream",
     "text": [
      "Computing FID for checkpoint: model-69 finished. FID: 193.58604071960843\n",
      "Computing IS score for checkpoint: model-69...\n",
      "Computing IS score for checkpoint: model-69 finished. IS Mean: 4.99850606918335, IS Std: 0.4846791923046112\n",
      "Normalizing sampled images for checkpoint: model-70...\n",
      "Normalizing sampled images for checkpoint: model-70 finished.\n",
      "Computing FID for checkpoint: model-70...\n"
     ]
    },
    {
     "name": "stderr",
     "output_type": "stream",
     "text": [
      "100%|██████████| 20/20 [00:00<00:00, 42.33it/s]\n",
      "100%|██████████| 62/62 [00:01<00:00, 56.62it/s]\n"
     ]
    },
    {
     "name": "stdout",
     "output_type": "stream",
     "text": [
      "Computing FID for checkpoint: model-70 finished. FID: 195.175902098052\n",
      "Computing IS score for checkpoint: model-70...\n",
      "Computing IS score for checkpoint: model-70 finished. IS Mean: 4.57427978515625, IS Std: 0.3811006546020508\n",
      "Normalizing sampled images for checkpoint: model-71...\n",
      "Normalizing sampled images for checkpoint: model-71 finished.\n",
      "Computing FID for checkpoint: model-71...\n"
     ]
    },
    {
     "name": "stderr",
     "output_type": "stream",
     "text": [
      "100%|██████████| 20/20 [00:00<00:00, 44.01it/s]\n",
      "100%|██████████| 62/62 [00:01<00:00, 55.49it/s]\n"
     ]
    },
    {
     "name": "stdout",
     "output_type": "stream",
     "text": [
      "Computing FID for checkpoint: model-71 finished. FID: 194.84045459860542\n",
      "Computing IS score for checkpoint: model-71...\n",
      "Computing IS score for checkpoint: model-71 finished. IS Mean: 4.868216037750244, IS Std: 0.39128977060317993\n",
      "Normalizing sampled images for checkpoint: model-72...\n",
      "Normalizing sampled images for checkpoint: model-72 finished.\n",
      "Computing FID for checkpoint: model-72...\n"
     ]
    },
    {
     "name": "stderr",
     "output_type": "stream",
     "text": [
      "100%|██████████| 20/20 [00:00<00:00, 42.23it/s]\n",
      "100%|██████████| 62/62 [00:01<00:00, 56.66it/s]\n"
     ]
    },
    {
     "name": "stdout",
     "output_type": "stream",
     "text": [
      "Computing FID for checkpoint: model-72 finished. FID: 196.99796421739245\n",
      "Computing IS score for checkpoint: model-72...\n",
      "Computing IS score for checkpoint: model-72 finished. IS Mean: 4.631096363067627, IS Std: 0.2623896896839142\n",
      "Normalizing sampled images for checkpoint: model-73...\n",
      "Normalizing sampled images for checkpoint: model-73 finished.\n",
      "Computing FID for checkpoint: model-73...\n"
     ]
    },
    {
     "name": "stderr",
     "output_type": "stream",
     "text": [
      "100%|██████████| 20/20 [00:00<00:00, 43.65it/s]\n",
      "100%|██████████| 62/62 [00:01<00:00, 56.31it/s]\n"
     ]
    },
    {
     "name": "stdout",
     "output_type": "stream",
     "text": [
      "Computing FID for checkpoint: model-73 finished. FID: 196.76553164295535\n",
      "Computing IS score for checkpoint: model-73...\n",
      "Computing IS score for checkpoint: model-73 finished. IS Mean: 4.835473537445068, IS Std: 0.4050947427749634\n",
      "Normalizing sampled images for checkpoint: model-74...\n",
      "Normalizing sampled images for checkpoint: model-74 finished.\n",
      "Computing FID for checkpoint: model-74...\n"
     ]
    },
    {
     "name": "stderr",
     "output_type": "stream",
     "text": [
      "100%|██████████| 20/20 [00:00<00:00, 44.26it/s]\n",
      "100%|██████████| 62/62 [00:01<00:00, 57.04it/s]\n"
     ]
    },
    {
     "name": "stdout",
     "output_type": "stream",
     "text": [
      "Computing FID for checkpoint: model-74 finished. FID: 197.60173798840802\n",
      "Computing IS score for checkpoint: model-74...\n",
      "Computing IS score for checkpoint: model-74 finished. IS Mean: 4.701485633850098, IS Std: 0.4236850440502167\n",
      "Normalizing sampled images for checkpoint: model-75...\n",
      "Normalizing sampled images for checkpoint: model-75 finished.\n",
      "Computing FID for checkpoint: model-75...\n"
     ]
    },
    {
     "name": "stderr",
     "output_type": "stream",
     "text": [
      "100%|██████████| 20/20 [00:00<00:00, 43.71it/s]\n",
      "100%|██████████| 65/65 [00:01<00:00, 53.37it/s]\n"
     ]
    },
    {
     "name": "stdout",
     "output_type": "stream",
     "text": [
      "Computing FID for checkpoint: model-75 finished. FID: 193.71594228097902\n",
      "Computing IS score for checkpoint: model-75...\n",
      "Computing IS score for checkpoint: model-75 finished. IS Mean: 5.203740119934082, IS Std: 0.3606451153755188\n",
      "Best FID: 175.23017548067696 at checkpoint model-13\n",
      "Best IS Mean: 5.626406192779541 at checkpoint model-21\n"
     ]
    }
   ],
   "source": [
    "# Initialize variables to track the best FID and IS\n",
    "best_fid = float('inf')\n",
    "best_fid_checkpoint = None\n",
    "\n",
    "best_is_mean = float('-inf')\n",
    "best_is_checkpoint = None\n",
    "\n",
    "\n",
    "# calculation of FID and IS for first 75 checkpoints\n",
    "# so far, we only sampled images for first 75 checkpoints\n",
    "for checkpoint in checkpoints[:75]:\n",
    "    gen_dir = os.path.join(GENERATED_IMAGES_ROOT, checkpoint)\n",
    "    temp_gen_dir = os.path.join(TEMP_GEN_DIR, checkpoint)\n",
    "\n",
    "    print(f\"Normalizing sampled images for checkpoint: {checkpoint}...\")\n",
    "    normalize_images(gen_dir, temp_gen_dir, target_range=(0, 1))\n",
    "    print(f\"Normalizing sampled images for checkpoint: {checkpoint} finished.\")\n",
    "\n",
    "    # Compute FID  ============================================================================\n",
    "    print(f\"Computing FID for checkpoint: {checkpoint}...\")\n",
    "    fid = compute_fid(TEMP_REAL_DIR, temp_gen_dir)\n",
    "    print(f\"Computing FID for checkpoint: {checkpoint} finished. FID: {fid}\")\n",
    "    \n",
    "    # Check if this is the best FID\n",
    "    if fid < best_fid:\n",
    "        best_fid = fid\n",
    "        best_fid_checkpoint = checkpoint\n",
    "        \n",
    "    # Compute IS ==============================================================================\n",
    "    print(f\"Computing IS score for checkpoint: {checkpoint}...\")\n",
    "    is_mean, is_std = compute_inception_score(temp_gen_dir)\n",
    "    print(f\"Computing IS score for checkpoint: {checkpoint} finished. IS Mean: {is_mean.item()}, IS Std: {is_std.item()}\")\n",
    "\n",
    "    # Check if this is the best IS mean\n",
    "    if is_mean > best_is_mean:\n",
    "        best_is_mean = is_mean\n",
    "        best_is_checkpoint = checkpoint\n",
    "        \n",
    "        \n",
    "    # Store results\n",
    "    results.append({\n",
    "        \"Checkpoint\": checkpoint,\n",
    "        \"FID\": fid,\n",
    "        \"IS Mean\": is_mean.item(),\n",
    "        \"IS Std\": is_std.item()\n",
    "    })\n",
    "    \n",
    "    \n",
    "    \n",
    "    # torch.cuda.synchronize()\n",
    "    # torch.cuda.empty_cache()\n",
    "    \n",
    "# Print the best FID and IS\n",
    "print(f\"Best FID: {best_fid} at checkpoint {best_fid_checkpoint}\")\n",
    "print(f\"Best IS Mean: {best_is_mean} at checkpoint {best_is_checkpoint}\")"
   ]
  },
  {
   "cell_type": "code",
   "execution_count": null,
   "id": "f6202344-2086-457c-9274-ecd6b6cbefb8",
   "metadata": {},
   "outputs": [],
   "source": []
  },
  {
   "cell_type": "code",
   "execution_count": 8,
   "id": "801506cb-4d70-4475-9101-fc4b1b5191e6",
   "metadata": {},
   "outputs": [],
   "source": [
    "# Save Results\n",
    "results_df = pd.DataFrame(results)\n",
    "results_df.to_csv(\"evaluation_results.csv\", index=False)\n",
    "\n",
    "# Create a DataFrame for the best FID and IS\n",
    "best_scores_df = pd.DataFrame([\n",
    "    {\"Metric\": \"FID\", \"Checkpoint\": best_fid_checkpoint, \"Value\": best_fid},\n",
    "    {\"Metric\": \"IS Mean\", \"Checkpoint\": best_is_checkpoint, \"Value\": best_is_mean.item()}\n",
    "])\n",
    "# Save to a separate CSV\n",
    "best_scores_df.to_csv(\"best_scores.csv\", index=False)"
   ]
  },
  {
   "cell_type": "code",
   "execution_count": null,
   "id": "a015cfa6-dd15-4e32-8070-306f55f5e99a",
   "metadata": {},
   "outputs": [],
   "source": []
  },
  {
   "cell_type": "code",
   "execution_count": 10,
   "id": "4e6ff539-cff6-4a75-96b2-928601ecd77a",
   "metadata": {
    "tags": []
   },
   "outputs": [
    {
     "name": "stdout",
     "output_type": "stream",
     "text": [
      "Plots saved as FID_vs_TrainingSteps.png and IS_vs_TrainingSteps.png.\n"
     ]
    },
    {
     "data": {
      "image/png": "[encoded data removed]",
      "text/plain": [
       "<Figure size 640x480 with 1 Axes>"
      ]
     },
     "metadata": {},
     "output_type": "display_data"
    },
    {
     "data": {
      "image/png": "[encoded data removed]",
      "text/plain": [
       "<Figure size 640x480 with 1 Axes>"
      ]
     },
     "metadata": {},
     "output_type": "display_data"
    }
   ],
   "source": [
    "# Extract training steps from checkpoint names\n",
    "results_df[\"Training Steps\"] = results_df[\"Checkpoint\"].apply(\n",
    "    lambda x: int(x.split('-')[1]) * 1000 if x.startswith(\"model-\") else None\n",
    ")\n",
    "\n",
    "# Drop rows without valid training steps (like Best FID/IS rows)\n",
    "valid_results_df = results_df.dropna(subset=[\"Training Steps\"])\n",
    "\n",
    "# Plot FID vs Training Steps\n",
    "plt.figure()\n",
    "plt.plot(valid_results_df[\"Training Steps\"], valid_results_df[\"FID\"], marker='o')\n",
    "plt.title(\"FID vs Training Steps\")\n",
    "plt.xlabel(\"Training Steps\")\n",
    "plt.ylabel(\"FID\")\n",
    "plt.grid()\n",
    "plt.savefig(\"FID_vs_TrainingSteps.png\")\n",
    "\n",
    "# Plot IS vs Training Steps\n",
    "plt.figure()\n",
    "plt.errorbar(\n",
    "    valid_results_df[\"Training Steps\"], \n",
    "    valid_results_df[\"IS Mean\"], \n",
    "    yerr=valid_results_df[\"IS Std\"], \n",
    "    fmt='o'\n",
    ")\n",
    "plt.title(\"IS vs Training Steps\")\n",
    "plt.xlabel(\"Training Steps\")\n",
    "plt.ylabel(\"Inception Score\")\n",
    "plt.grid()\n",
    "plt.savefig(\"IS_vs_TrainingSteps.png\")\n",
    "\n",
    "print(\"Plots saved as FID_vs_TrainingSteps.png and IS_vs_TrainingSteps.png.\")"
   ]
  },
  {
   "cell_type": "code",
   "execution_count": null,
   "id": "658d289b-ddf9-435c-872a-3af1e646d7dc",
   "metadata": {},
   "outputs": [],
   "source": []
  },
  {
   "cell_type": "code",
   "execution_count": 11,
   "id": "dc0ffcb0-059d-4dc4-b8a4-ad990d97f94f",
   "metadata": {},
   "outputs": [
    {
     "name": "stdout",
     "output_type": "stream",
     "text": [
      "Cleaning up temporary directories...\n",
      "Evaluation completed. Results saved to 'evaluation_results.csv', 'FID_vs_Checkpoint.png', and 'IS_vs_Checkpoint.png'.\n"
     ]
    }
   ],
   "source": [
    "# Cleanup Temporary Directories\n",
    "print(\"Cleaning up temporary directories...\")\n",
    "shutil.rmtree(TEMP_REAL_DIR, ignore_errors=True)\n",
    "shutil.rmtree(TEMP_GEN_DIR, ignore_errors=True)\n",
    "\n",
    "print(\"Evaluation completed. Results saved to 'evaluation_results.csv', 'FID_vs_Checkpoint.png', and 'IS_vs_Checkpoint.png'.\")"
   ]
  },
  {
   "cell_type": "code",
   "execution_count": null,
   "id": "562b95ea-882a-4f06-a6e8-cbf4e2130976",
   "metadata": {},
   "outputs": [],
   "source": []
  },
  {
   "cell_type": "markdown",
   "id": "9deeda37-36cf-4550-8311-476e1ad795f5",
   "metadata": {},
   "source": [
    "### Focus on the first 25000 training steps to plot"
   ]
  },
  {
   "cell_type": "code",
   "execution_count": 12,
   "id": "8afa5faa-2158-49e2-9d0c-7eeab41baf9e",
   "metadata": {},
   "outputs": [
    {
     "name": "stdout",
     "output_type": "stream",
     "text": [
      "Plots saved as FID_vs_TrainingSteps_First25.png and IS_vs_TrainingSteps_First25.png.\n"
     ]
    },
    {
     "data": {
      "image/png": "[encoded data removed]",
      "text/plain": [
       "<Figure size 640x480 with 1 Axes>"
      ]
     },
     "metadata": {},
     "output_type": "display_data"
    },
    {
     "data": {
      "image/png": "[encoded data removed]",
      "text/plain": [
       "<Figure size 640x480 with 1 Axes>"
      ]
     },
     "metadata": {},
     "output_type": "display_data"
    }
   ],
   "source": [
    "# Filter for the first 25 model checkpoints (<= 25,000 steps)\n",
    "first_25_df = valid_results_df[valid_results_df[\"Training Steps\"] <= 25000]\n",
    "\n",
    "# Plot FID vs Training Steps for the first 25 checkpoints\n",
    "plt.figure()\n",
    "plt.plot(first_25_df[\"Training Steps\"], first_25_df[\"FID\"], marker='o')\n",
    "plt.title(\"FID vs Training Steps (First 25 Checkpoints)\")\n",
    "plt.xlabel(\"Training Steps\")\n",
    "plt.ylabel(\"FID\")\n",
    "plt.grid()\n",
    "plt.savefig(\"FID_vs_TrainingSteps_First25.png\")\n",
    "\n",
    "# Plot IS vs Training Steps for the first 25 checkpoints\n",
    "plt.figure()\n",
    "plt.errorbar(\n",
    "    first_25_df[\"Training Steps\"], \n",
    "    first_25_df[\"IS Mean\"], \n",
    "    yerr=first_25_df[\"IS Std\"], \n",
    "    fmt='o'\n",
    ")\n",
    "plt.title(\"IS vs Training Steps (First 25 Checkpoints)\")\n",
    "plt.xlabel(\"Training Steps\")\n",
    "plt.ylabel(\"Inception Score\")\n",
    "plt.grid()\n",
    "plt.savefig(\"IS_vs_TrainingSteps_First25.png\")\n",
    "\n",
    "print(\"Plots saved as FID_vs_TrainingSteps_First25.png and IS_vs_TrainingSteps_First25.png.\")"
   ]
  },
  {
   "cell_type": "code",
   "execution_count": null,
   "id": "13ffedf3-f0a4-4403-bbc5-5e3b67fb0a1e",
   "metadata": {},
   "outputs": [],
   "source": []
  },
  {
   "cell_type": "code",
   "execution_count": null,
   "id": "1dd6f29c-d570-4839-9e79-56ba7684fcc1",
   "metadata": {},
   "outputs": [],
   "source": []
  },
  {
   "cell_type": "code",
   "execution_count": null,
   "id": "f663a66b-e8f5-4404-9bd6-0b10639b9aa0",
   "metadata": {},
   "outputs": [],
   "source": []
  },
  {
   "cell_type": "code",
   "execution_count": null,
   "id": "cd387d7a-1a77-4932-bef4-39eb86dc818d",
   "metadata": {},
   "outputs": [],
   "source": []
  },
  {
   "cell_type": "code",
   "execution_count": null,
   "id": "03ed4998-8cf1-4623-93a5-f782e337875f",
   "metadata": {},
   "outputs": [],
   "source": []
  },
  {
   "cell_type": "code",
   "execution_count": null,
   "id": "670dabec-c969-4032-ba88-ea773327ee0a",
   "metadata": {},
   "outputs": [],
   "source": []
  }
 ],
 "metadata": {
  "kernelspec": {
   "display_name": "PyTorch 2.4.0",
   "language": "python",
   "name": "pytorch-2.4.0"
  },
  "language_info": {
   "codemirror_mode": {
    "name": "ipython",
    "version": 3
   },
   "file_extension": ".py",
   "mimetype": "text/x-python",
   "name": "python",
   "nbconvert_exporter": "python",
   "pygments_lexer": "ipython3",
   "version": "3.10.12"
  }
 },
 "nbformat": 4,
 "nbformat_minor": 5
}
